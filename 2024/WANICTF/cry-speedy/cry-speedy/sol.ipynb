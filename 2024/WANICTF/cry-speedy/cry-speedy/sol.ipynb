{
 "cells": [
  {
   "cell_type": "code",
   "execution_count": 40,
   "id": "f12d0530-636e-4282-8f9b-6a2a48adc494",
   "metadata": {},
   "outputs": [],
   "source": [
    "from Crypto.Util.number import *\n",
    "from Crypto.Util.Padding import *\n",
    "\n",
    "def rotl(x, y):\n",
    "    x &= 0xFFFFFFFFFFFFFFFF\n",
    "    return ((x << y) | (x >> (64 - y))) & 0xFFFFFFFFFFFFFFFF\n",
    "\n",
    "class MyCipher:\n",
    "    def __init__(self, s0, s1):\n",
    "        self.X = s0\n",
    "        self.Y = s1\n",
    "        self.mod = 0xFFFFFFFFFFFFFFFF\n",
    "        self.BLOCK_SIZE = 8\n",
    "    def get_key_stream(self):\n",
    "        s0 = self.X\n",
    "        s1 = self.Y\n",
    "        sum = (s0 + s1) & self.mod\n",
    "        s1 ^= s0\n",
    "        key = []\n",
    "        for _ in range(8):\n",
    "            key.append(sum & 0xFF)\n",
    "            sum >>= 8\n",
    "        \n",
    "        self.X = (rotl(s0, 24) ^ s1 ^ (s1 << 16)) & self.mod\n",
    "        self.Y = rotl(s1, 37) & self.mod\n",
    "        return key    \n",
    "    def encrypt(self, pt: bytes):\n",
    "        ct = b''\n",
    "        for i in range(0, len(pt), self.BLOCK_SIZE):\n",
    "            key = self.get_key_stream()\n",
    "            block = pt[i:i+self.BLOCK_SIZE]\n",
    "            ct += bytes([block[j] ^ key[j] for j in range(len(block))])\n",
    "        return ct"
   ]
  },
  {
   "cell_type": "code",
   "execution_count": 5,
   "id": "1182d7c2-2aee-4af0-8f52-d0208d68c832",
   "metadata": {},
   "outputs": [],
   "source": [
    "ct = b'\"G:F\\xfe\\x8f\\xb0<O\\xc0\\x91\\xc8\\xa6\\x96\\xc5\\xf7N\\xc7n\\xaf8\\x1c,\\xcb\\xebY<z\\xd7\\xd8\\xc0-\\x08\\x8d\\xe9\\x9e\\xd8\\xa51\\xa8\\xfbp\\x8f\\xd4\\x13\\xf5m\\x8f\\x02\\xa3\\xa9\\x9e\\xb7\\xbb\\xaf\\xbd\\xb9\\xdf&Y3\\xf3\\x80\\xb8'"
   ]
  },
  {
   "cell_type": "code",
   "execution_count": 6,
   "id": "6e66eeb3-d9af-4c35-988b-cf523ce9c6d0",
   "metadata": {},
   "outputs": [],
   "source": [
    "b1 = []\n",
    "b2 = []\n",
    "for i in range(4):\n",
    "    b1.append(ct[8*(2*i):8*(2*i+1)])\n",
    "    b2.append(ct[8*(2*i+1):8*(2*i+2)])"
   ]
  },
  {
   "cell_type": "code",
   "execution_count": 7,
   "id": "cc41808c-1b8a-4bfa-b125-06e6979a224b",
   "metadata": {},
   "outputs": [
    {
     "data": {
      "text/plain": [
       "[b'\"G:F\\xfe\\x8f\\xb0<',\n",
       " b'N\\xc7n\\xaf8\\x1c,\\xcb',\n",
       " b'\\x08\\x8d\\xe9\\x9e\\xd8\\xa51\\xa8',\n",
       " b'\\x02\\xa3\\xa9\\x9e\\xb7\\xbb\\xaf\\xbd']"
      ]
     },
     "execution_count": 7,
     "metadata": {},
     "output_type": "execute_result"
    }
   ],
   "source": [
    "b1"
   ]
  },
  {
   "cell_type": "code",
   "execution_count": 8,
   "id": "979cbf50-6e21-4a1f-9d16-e8ed3be90622",
   "metadata": {},
   "outputs": [
    {
     "data": {
      "text/plain": [
       "[b'O\\xc0\\x91\\xc8\\xa6\\x96\\xc5\\xf7',\n",
       " b'\\xebY<z\\xd7\\xd8\\xc0-',\n",
       " b'\\xfbp\\x8f\\xd4\\x13\\xf5m\\x8f',\n",
       " b'\\xb9\\xdf&Y3\\xf3\\x80\\xb8']"
      ]
     },
     "execution_count": 8,
     "metadata": {},
     "output_type": "execute_result"
    }
   ],
   "source": [
    "b2"
   ]
  },
  {
   "cell_type": "code",
   "execution_count": 9,
   "id": "ab39cb53-0099-436b-88ea-bfbfc50866d8",
   "metadata": {},
   "outputs": [],
   "source": [
    "i0 = bytes_to_long(b1[0])"
   ]
  },
  {
   "cell_type": "code",
   "execution_count": 10,
   "id": "6265b188-2505-49b3-bb4f-3e345a05e7c8",
   "metadata": {},
   "outputs": [],
   "source": [
    "i1 = bytes_to_long(b1[1])"
   ]
  },
  {
   "cell_type": "code",
   "execution_count": 11,
   "id": "8cec1b8f-1ad7-44b9-bdd5-96e912121b3a",
   "metadata": {},
   "outputs": [],
   "source": [
    "t1=rotl(i0,24)"
   ]
  },
  {
   "cell_type": "code",
   "execution_count": 20,
   "id": "61366e28-b16d-491e-956f-46ec2dac3503",
   "metadata": {},
   "outputs": [],
   "source": [
    "from z3 import *"
   ]
  },
  {
   "cell_type": "code",
   "execution_count": 21,
   "id": "c3b770d3-1da2-4c93-ba9e-f6966493f026",
   "metadata": {},
   "outputs": [],
   "source": [
    "x0 = BitVec(\"x0\",64)\n",
    "x1 = BitVec(\"x1\",64)"
   ]
  },
  {
   "cell_type": "code",
   "execution_count": 24,
   "id": "e03dead0-ba53-4ce9-83cd-0f194caea7a8",
   "metadata": {},
   "outputs": [],
   "source": [
    "s = Solver()"
   ]
  },
  {
   "cell_type": "code",
   "execution_count": 26,
   "id": "74a485ba-c49a-48cf-8f4a-d8bfada38856",
   "metadata": {},
   "outputs": [],
   "source": [
    "s.add(i1==(t1^x1^(x1<<16))&0xFFFFFFFFFFFFFFFF )"
   ]
  },
  {
   "cell_type": "code",
   "execution_count": 27,
   "id": "d73c083d-5aab-496c-afea-4f6c816eaef3",
   "metadata": {},
   "outputs": [
    {
     "data": {
      "text/html": [
       "<b>sat</b>"
      ],
      "text/plain": [
       "sat"
      ]
     },
     "execution_count": 27,
     "metadata": {},
     "output_type": "execute_result"
    }
   ],
   "source": [
    "s.check()"
   ]
  },
  {
   "cell_type": "code",
   "execution_count": 28,
   "id": "f9866c4c-4fda-479c-8476-353084fe0b30",
   "metadata": {},
   "outputs": [
    {
     "data": {
      "text/html": [
       "[x1 = 9721458296536132593]"
      ],
      "text/plain": [
       "[x1 = 9721458296536132593]"
      ]
     },
     "execution_count": 28,
     "metadata": {},
     "output_type": "execute_result"
    }
   ],
   "source": [
    "s.model()"
   ]
  },
  {
   "cell_type": "code",
   "execution_count": 29,
   "id": "89fd31cb-1f7d-4855-b1f4-8d7b1e4844a2",
   "metadata": {},
   "outputs": [],
   "source": [
    "l1 = 9721458296536132593"
   ]
  },
  {
   "cell_type": "code",
   "execution_count": 30,
   "id": "58be7804-b000-42e1-984e-a4658497c0ed",
   "metadata": {},
   "outputs": [],
   "source": [
    "ac = i0^l1"
   ]
  },
  {
   "cell_type": "code",
   "execution_count": 31,
   "id": "7c0125c0-811c-4ea7-b71c-48b7d910c0d9",
   "metadata": {},
   "outputs": [
    {
     "data": {
      "text/plain": [
       "11866620626942876621"
      ]
     },
     "execution_count": 31,
     "metadata": {},
     "output_type": "execute_result"
    }
   ],
   "source": [
    "ac"
   ]
  },
  {
   "cell_type": "code",
   "execution_count": 41,
   "id": "bf89b673-eac3-465d-abe4-768d8d1ae2be",
   "metadata": {},
   "outputs": [],
   "source": [
    "from Crypto.Util.number import *\n",
    "from Crypto.Util.Padding import *\n",
    "import os\n",
    "cipher = MyCipher(i0, ac)"
   ]
  },
  {
   "cell_type": "code",
   "execution_count": 42,
   "id": "ed4a374d-b48f-49d9-9c8b-fbdddef8c6bf",
   "metadata": {},
   "outputs": [],
   "source": [
    "p1 =b\"\""
   ]
  },
  {
   "cell_type": "code",
   "execution_count": 43,
   "id": "6f95f20f-40c3-4cd3-b6e3-132d0915bbd5",
   "metadata": {},
   "outputs": [],
   "source": [
    "for i in b2:\n",
    "    p1+=cipher.encrypt(i)"
   ]
  },
  {
   "cell_type": "code",
   "execution_count": 44,
   "id": "dfcb51b0-3d39-4616-8986-3b0fea7c16ba",
   "metadata": {},
   "outputs": [
    {
     "data": {
      "text/plain": [
       "b'FLAG{x013_ro74te_5hif7!!}\\x07\\x07\\x07\\x07\\x07\\x07\\x07'"
      ]
     },
     "execution_count": 44,
     "metadata": {},
     "output_type": "execute_result"
    }
   ],
   "source": [
    "p1"
   ]
  }
 ],
 "metadata": {
  "kernelspec": {
   "display_name": "Python 3 (ipykernel)",
   "language": "python",
   "name": "python3"
  },
  "language_info": {
   "codemirror_mode": {
    "name": "ipython",
    "version": 3
   },
   "file_extension": ".py",
   "mimetype": "text/x-python",
   "name": "python",
   "nbconvert_exporter": "python",
   "pygments_lexer": "ipython3",
   "version": "3.11.9"
  }
 },
 "nbformat": 4,
 "nbformat_minor": 5
}
