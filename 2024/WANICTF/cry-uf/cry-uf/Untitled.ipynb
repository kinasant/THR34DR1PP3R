{
 "cells": [
  {
   "cell_type": "code",
   "execution_count": 28,
   "id": "c30eda9f-6766-4222-bb90-2528cc8cbda4",
   "metadata": {},
   "outputs": [],
   "source": [
    "from Crypto.Util.number import *"
   ]
  },
  {
   "cell_type": "code",
   "execution_count": 29,
   "id": "36c35195-880f-4a8c-bc93-e4a234726084",
   "metadata": {},
   "outputs": [],
   "source": [
    "ans=[6643852762092641655051592752286380661448697120839285262713138738793179330857521051418707355387198243788554658967735136760757552410466512939791351078152197994352930016306075464400264019640466277732596022216246131141036813931972036259910390741311141390889450882074162723823607552591155184799627590418587536982033939537563823, 4495106960532238798978878322218382764459613684889887356979907395021294655849239390809608204284927849117763119933285899077777162943233437728643056322845118660545730870443735090094400144586494098834221418487123653668703665085461676013454922344247818407399456870636622800919629442727075235809213114639237367651539678560390951, 7622226387024225267485603541284038981214490586915816777231024576546652676746968149372915915975325662783469952634025859954515971134032563991925283958708572235632178937041656690377178266198211581176947491463237398083133658483056792368618417698027992083481412961301906342594056438180675328433412539805240307255787971167535638, 1149407465454162408488208063367931363888120160126632926627929705372269921465081968665764846439238807939361247987642326885758277171318666479752274577607727935160689442316433824450832192798328252739495913920016290902086534688608562545166349970831960156036289570935410160077618096614135121287858428753273136461851339553609896]\n",
    "x0,x1,x2,x3 = (i for i in ans)"
   ]
  },
  {
   "cell_type": "code",
   "execution_count": 30,
   "id": "8359aa77-bb03-4a02-95ed-96c33d355e73",
   "metadata": {},
   "outputs": [],
   "source": [
    "pad = 2^300"
   ]
  },
  {
   "cell_type": "code",
   "execution_count": 31,
   "id": "99d2b9b9-71d8-4829-9aab-de374a90e5f0",
   "metadata": {},
   "outputs": [],
   "source": [
    "M = Matrix(ZZ,[[pad,x1,x2,x3],[0,-x0,0,0],[0,0,-x0,0],[0,0,0,-x0]])"
   ]
  },
  {
   "cell_type": "code",
   "execution_count": 32,
   "id": "ef0b9b8d-520a-4392-9a9b-98bc7c866194",
   "metadata": {},
   "outputs": [],
   "source": [
    "M1 = M.LLL()"
   ]
  },
  {
   "cell_type": "code",
   "execution_count": 33,
   "id": "2dc4c5f0-6345-47c0-9035-7177227677fa",
   "metadata": {},
   "outputs": [],
   "source": [
    "q0 = M1[0][0] //pad"
   ]
  },
  {
   "cell_type": "code",
   "execution_count": 34,
   "id": "53687e3f-a708-48ac-9182-cad3feca61cc",
   "metadata": {},
   "outputs": [],
   "source": [
    "r0 = x0 % q0"
   ]
  },
  {
   "cell_type": "code",
   "execution_count": 35,
   "id": "61af60e4-8303-4caf-9c06-6dea1a803ae2",
   "metadata": {},
   "outputs": [
    {
     "data": {
      "text/plain": [
       "1036334078157170540259187719140748103371863098400277790427679442845622326451859930189899940779266738477500054825994772036824488898438965950846361885834774970065694909309"
      ]
     },
     "execution_count": 35,
     "metadata": {},
     "output_type": "execute_result"
    }
   ],
   "source": [
    "(x0-r0) // q0"
   ]
  },
  {
   "cell_type": "code",
   "execution_count": 36,
   "id": "dcf66565-a742-4841-924f-98448002d0ae",
   "metadata": {},
   "outputs": [
    {
     "data": {
      "text/plain": [
       "b'FLAG{hope_this_chal_is_not_automatically_solved_by_AI_c14ef1732e87a6c}'"
      ]
     },
     "execution_count": 36,
     "metadata": {},
     "output_type": "execute_result"
    }
   ],
   "source": [
    "long_to_bytes(_)"
   ]
  },
  {
   "cell_type": "code",
   "execution_count": null,
   "id": "0f23c053-48a2-4992-a145-843da5da84ae",
   "metadata": {},
   "outputs": [],
   "source": []
  }
 ],
 "metadata": {
  "kernelspec": {
   "display_name": "SageMath 10.3",
   "language": "sage",
   "name": "sagemath"
  },
  "language_info": {
   "codemirror_mode": {
    "name": "ipython",
    "version": 3
   },
   "file_extension": ".py",
   "mimetype": "text/x-python",
   "name": "python",
   "nbconvert_exporter": "python",
   "pygments_lexer": "ipython3",
   "version": "3.11.9"
  }
 },
 "nbformat": 4,
 "nbformat_minor": 5
}
