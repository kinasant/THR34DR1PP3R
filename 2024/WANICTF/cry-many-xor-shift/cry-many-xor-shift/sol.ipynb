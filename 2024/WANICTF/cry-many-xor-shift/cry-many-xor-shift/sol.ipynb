{
 "cells": [
  {
   "cell_type": "code",
   "execution_count": 3,
   "id": "375d727f-74ef-4a97-aaf7-9242c70acf59",
   "metadata": {},
   "outputs": [],
   "source": [
    "from Crypto.Util.number import *"
   ]
  },
  {
   "cell_type": "code",
   "execution_count": 4,
   "id": "1ebcde91-cfcb-4c82-a48a-f86b3cd892ad",
   "metadata": {},
   "outputs": [],
   "source": [
    "FLAG = b'FAKE{XXXXXXXXXXXXXXXXXXXXXX}'\n",
    "\n",
    "N = 7\n",
    "WORD_SIZE = 32\n",
    "WORD_MASK = (1 << WORD_SIZE) - 1"
   ]
  },
  {
   "cell_type": "code",
   "execution_count": 5,
   "id": "ea603c28-7240-4afa-a293-0bbd4fb55a1e",
   "metadata": {},
   "outputs": [],
   "source": [
    "state = [1927245640, 871031439, 789877080, 4042398809, 3950816575, 2366948739, 935819524]"
   ]
  },
  {
   "cell_type": "code",
   "execution_count": 6,
   "id": "772c5f65-98dc-425f-8787-83ea490b4e91",
   "metadata": {},
   "outputs": [],
   "source": [
    "def encrypt(m):\n",
    "    state = [int.from_bytes(m[i:i+4]) for i in range(0, len(m), 4)]\n",
    "    assert len(state) == N\n",
    "\n",
    "    def xor_shift():\n",
    "        nonlocal state\n",
    "        t = state[0] ^ ((state[0] << 11) & WORD_MASK)\n",
    "        for i in range(N-1):\n",
    "            state[i] = state[i+1]\n",
    "        state[-1] = (state[-1] ^ (state[-1] >> 19)) ^ (t ^ (t >> 8))\n",
    "\n",
    "    for _ in range(M):\n",
    "        xor_shift()\n",
    "\n",
    "    return state"
   ]
  },
  {
   "cell_type": "code",
   "execution_count": 7,
   "id": "f4ed5c75-8cc5-4dff-a1f7-2245e303dec3",
   "metadata": {},
   "outputs": [],
   "source": [
    "def gen_left_shift_mat(dimension):\n",
    "\tnn = [[0 for _ in range(dimension)] for _ in range(dimension)]\n",
    "\tfor i in range(dimension - 1):\n",
    "\t\tnn[i][i+1] = 1\n",
    "\treturn Matrix(GF(2), nn)\n",
    "\n",
    "def gen_right_shift_mat(dimension):\n",
    "\tUn = gen_left_shift_mat(dimension)\n",
    "\treturn Un.transpose()\n",
    "\n",
    "def int_2_vec(si, nbits):\n",
    "\treturn vector(GF(2), list(map(int, bin(si)[2:].zfill(nbits))))\n",
    "\n",
    "def gen_svs_mat(sis):\n",
    "\t# concat list of vecs\n",
    "\tsvs = []\n",
    "\tfor i in sis:\n",
    "\t\tsvs.extend(list(i))\n",
    "\treturn vector(GF(2), svs)\n",
    "    \n",
    "def state_2_ints(state_vec, dimension):\n",
    "\t# create state_vec to individual integer in state\n",
    "\tss = []\n",
    "\tstate_vec = list(state_vec)\n",
    "\tfor i in range(0, len(state_vec), dimension):\n",
    "\t\tval = int(''.join(map(str, state_vec[i: i+dimension])), 2)\n",
    "\t\tss.append(val)\n",
    "\treturn ss\n",
    "\n",
    "def ints_2_state(state_ints, dimension):\n",
    "\tinit_s = []\n",
    "\tfor i in state_ints:\n",
    "\t\tinit_s.append(int_2_vec(i, dimension))\n",
    "\treturn gen_svs_mat(init_s)"
   ]
  },
  {
   "cell_type": "code",
   "execution_count": 8,
   "id": "d36f1185-1c8e-4617-846e-11a8510e3673",
   "metadata": {},
   "outputs": [],
   "source": [
    "    def xor_shift(y,count):\n",
    "        state=y.copy()\n",
    "        for i in range(count):\n",
    "            t = state[0] ^^ ((state[0] << 11) & WORD_MASK)\n",
    "            for i in range(7-1):\n",
    "                state[i] = state[i+1]\n",
    "            state[-1] = (state[-1] ^^ (state[-1] >> 19)) ^^ (t ^^ (t >> 8))\n",
    "        return state"
   ]
  },
  {
   "cell_type": "code",
   "execution_count": 9,
   "id": "7be3d321-10f4-4087-bb7b-0a443d4da02e",
   "metadata": {},
   "outputs": [],
   "source": [
    "def gmm(dimension):\n",
    "    t1 = [N,N,A]\n",
    "    t1+=[N for i in range(dimension-3)]\n",
    "    block = [[N for _ in range(dimension)] for _ in range(dimension-2)]\n",
    "    for i in range(6):\n",
    "        block[i][2+i] = I\n",
    "    t2 = [Z]+[N for i in range(dimension-2)]+[Y]\n",
    "    block = [t1]+block+[t2]\n",
    "    return block_matrix(block)"
   ]
  },
  {
   "cell_type": "code",
   "execution_count": 10,
   "id": "5863fa2b-04a8-4bdb-8a71-2c20b946e1b2",
   "metadata": {
    "jp-MarkdownHeadingCollapsed": true
   },
   "outputs": [],
   "source": [
    "dimension = 32\n",
    "Un = gen_left_shift_mat(dimension)\n",
    "Ln = gen_right_shift_mat(dimension)\n",
    "I = Matrix.identity(GF(2),32)\n",
    "N = Matrix(GF(2),32)"
   ]
  },
  {
   "cell_type": "code",
   "execution_count": 11,
   "id": "78c1d0b0-1b96-4209-b1ee-8613f04f45e7",
   "metadata": {},
   "outputs": [],
   "source": [
    "### encrytion proof\n",
    "A = Un^11+I\n",
    "Y = Ln^19+I\n",
    "Z = Ln^8 + I"
   ]
  },
  {
   "cell_type": "code",
   "execution_count": 12,
   "id": "45a7559b-1c72-4c57-a08b-cfc68e4e6767",
   "metadata": {
    "scrolled": true
   },
   "outputs": [],
   "source": [
    "b=gmm(8)"
   ]
  },
  {
   "cell_type": "code",
   "execution_count": 13,
   "id": "21023ecd-f229-49bb-961f-49cd175cba2c",
   "metadata": {},
   "outputs": [],
   "source": [
    "t = state[0] ^^ ((state[0] << 11) & WORD_MASK)"
   ]
  },
  {
   "cell_type": "code",
   "execution_count": 14,
   "id": "3ee3bd6f-3b38-4f1c-9aab-afdc91855f87",
   "metadata": {},
   "outputs": [],
   "source": [
    "s1 = [t]+state"
   ]
  },
  {
   "cell_type": "code",
   "execution_count": 15,
   "id": "7b50fa20-0530-4f28-b2ee-6f118e28c88f",
   "metadata": {},
   "outputs": [],
   "source": [
    "b1=b^5*ints_2_state(s1,32)"
   ]
  },
  {
   "cell_type": "code",
   "execution_count": 16,
   "id": "39e5bb1e-4ccd-4e7e-89a1-abfde3cbb403",
   "metadata": {},
   "outputs": [],
   "source": [
    "a1=xor_shift(state,5)"
   ]
  },
  {
   "cell_type": "code",
   "execution_count": 17,
   "id": "5bb4f675-f3b7-4fba-8258-c32a3df6124c",
   "metadata": {},
   "outputs": [],
   "source": [
    "a2=state_2_ints(b1,32)"
   ]
  },
  {
   "cell_type": "code",
   "execution_count": 18,
   "id": "73343b15-ff6e-4a69-9b90-b89a9f3d432e",
   "metadata": {},
   "outputs": [
    {
     "data": {
      "text/plain": [
       "True"
      ]
     },
     "execution_count": 18,
     "metadata": {},
     "output_type": "execute_result"
    }
   ],
   "source": [
    "a1 ==a2[1:]"
   ]
  },
  {
   "cell_type": "code",
   "execution_count": 19,
   "id": "81ffa686-ac26-41e0-9290-06f4f1776067",
   "metadata": {},
   "outputs": [],
   "source": [
    "def gmm2(dimension):\n",
    "    block = [[N for _ in range(dimension)] for _ in range(dimension-1)]\n",
    "    for i in range(6):\n",
    "        block[i][i] = I\n",
    "    t2 = [[N for i in range(dimension-2)] + [N,A^-1*Z^-1]]\n",
    "    t2 = t2 + block\n",
    "    return block_matrix(t2)"
   ]
  },
  {
   "cell_type": "code",
   "execution_count": 20,
   "id": "d3ce6cee-e79c-40ae-a168-a73759004883",
   "metadata": {},
   "outputs": [],
   "source": [
    "def gmm3(dimension):\n",
    "    block = [[N for _ in range(dimension)] for _ in range(dimension-1)]\n",
    "    for i in range(6):\n",
    "        block[i][i] = I\n",
    "    t2 = [[N for i in range(dimension-2)] + [-Y,I]]\n",
    "    block+=t2\n",
    "    return block_matrix(block)"
   ]
  },
  {
   "cell_type": "code",
   "execution_count": 21,
   "id": "00c76a3b-3e40-471d-9de0-1e9a1421fe01",
   "metadata": {},
   "outputs": [],
   "source": [
    "p1 = gmm2(7)"
   ]
  },
  {
   "cell_type": "code",
   "execution_count": 22,
   "id": "aed01436-7050-4700-9f14-fce0601198ea",
   "metadata": {},
   "outputs": [],
   "source": [
    "h1 = gmm3(7)"
   ]
  },
  {
   "cell_type": "code",
   "execution_count": 23,
   "id": "05843e27-eede-419c-98c6-c3ef5361b056",
   "metadata": {},
   "outputs": [],
   "source": [
    "b2= (p1*h1)^(17005450388330379)*ints_2_state(state,32)"
   ]
  },
  {
   "cell_type": "code",
   "execution_count": 24,
   "id": "9016d0eb-1440-49dc-af1a-3ef12bb57706",
   "metadata": {},
   "outputs": [],
   "source": [
    "x1=state_2_ints(b2,32)"
   ]
  },
  {
   "cell_type": "code",
   "execution_count": 25,
   "id": "0f85409c-e7f0-49b3-8311-73222a0fc7e4",
   "metadata": {},
   "outputs": [],
   "source": [
    "t1=b''\n",
    "for i in x1:\n",
    "    t1+= long_to_bytes(i)"
   ]
  },
  {
   "cell_type": "code",
   "execution_count": 26,
   "id": "d4d42ec1-acff-4c52-a412-e1e7f0791833",
   "metadata": {},
   "outputs": [
    {
     "data": {
      "text/plain": [
       "b'FLAG{m47r1x_!n_8inary_w0rld}'"
      ]
     },
     "execution_count": 26,
     "metadata": {},
     "output_type": "execute_result"
    }
   ],
   "source": [
    "t1"
   ]
  }
 ],
 "metadata": {
  "kernelspec": {
   "display_name": "SageMath 10.3",
   "language": "sage",
   "name": "sagemath"
  },
  "language_info": {
   "codemirror_mode": {
    "name": "ipython",
    "version": 3
   },
   "file_extension": ".py",
   "mimetype": "text/x-python",
   "name": "python",
   "nbconvert_exporter": "python",
   "pygments_lexer": "ipython3",
   "version": "3.11.9"
  }
 },
 "nbformat": 4,
 "nbformat_minor": 5
}
