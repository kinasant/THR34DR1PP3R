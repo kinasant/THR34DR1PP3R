{
 "cells": [
  {
   "cell_type": "code",
   "execution_count": 8,
   "id": "e6381720-0728-40f8-826d-60d0fad97950",
   "metadata": {},
   "outputs": [],
   "source": [
    "import os\n",
    "import random\n",
    "from hashlib import md5\n",
    "\n",
    "from Crypto.Cipher import AES\n",
    "from Crypto.Util.number import *"
   ]
  },
  {
   "cell_type": "code",
   "execution_count": 9,
   "id": "b7763635-6dbd-4660-a94c-97f2185066ef",
   "metadata": {},
   "outputs": [],
   "source": [
    "def encrypt(m: bytes, key: int) -> bytes:\n",
    "    iv = os.urandom(16)\n",
    "    key = long_to_bytes(key)\n",
    "    key = md5(key).digest()\n",
    "    cipher = AES.new(key, AES.MODE_CBC, iv=iv)\n",
    "    return iv + cipher.encrypt(m)\n",
    "def f(s, p):\n",
    "    u = 0\n",
    "    for i in range(p):\n",
    "        u += p - i\n",
    "        u *= s\n",
    "        u %= p\n",
    "    return u"
   ]
  },
  {
   "cell_type": "code",
   "execution_count": 10,
   "id": "dbed1aa9-5687-4094-9a19-3498b69574c8",
   "metadata": {},
   "outputs": [],
   "source": [
    "p = 108159532265181242371960862176089900437183046655107822712736597793129430067645352619047923366465213553080964155205008757015024406041606723580700542617009651237415277095236385696694741342539811786180063943404300498027896890240121098409649537982185247548732754713793214557909539077228488668731016501718242238229\n",
    "A = 60804426023059829529243916100868813693528686280274100232668009387292986893221484159514697867975996653561494260686110180269479231384753818873838897508257692444056934156009244570713404772622837916262561177765724587140931364577707149626116683828625211736898598854127868638686640564102372517526588283709560663960\n",
    "ciphertext = '9fb749ef7467a5aff04ec5c751e7dceca4f3386987f252a2fc14a8970ff097a81fcb1a8fbe173465eecb74fb1a843383'\n"
   ]
  },
  {
   "cell_type": "code",
   "execution_count": 15,
   "id": "d1e52b6e-4edf-4078-9829-76e86ebdca0e",
   "metadata": {},
   "outputs": [],
   "source": [
    "s= inverse(-A-1,p)+1"
   ]
  },
  {
   "cell_type": "code",
   "execution_count": 16,
   "id": "ea0ee4f8-90e2-490a-9392-8a7dc6e75823",
   "metadata": {},
   "outputs": [],
   "source": [
    "c = long_to_bytes(int(ciphertext,16))[16:]"
   ]
  },
  {
   "cell_type": "code",
   "execution_count": 17,
   "id": "1942c926-1811-4303-9d83-ade72ecb8ba5",
   "metadata": {
    "scrolled": true
   },
   "outputs": [
    {
     "data": {
      "text/plain": [
       "b'\\xa4\\xf38i\\x87\\xf2R\\xa2\\xfc\\x14\\xa8\\x97\\x0f\\xf0\\x97\\xa8\\x1f\\xcb\\x1a\\x8f\\xbe\\x174e\\xee\\xcbt\\xfb\\x1a\\x843\\x83'"
      ]
     },
     "execution_count": 17,
     "metadata": {},
     "output_type": "execute_result"
    }
   ],
   "source": [
    "c"
   ]
  },
  {
   "cell_type": "code",
   "execution_count": 18,
   "id": "7243ed1b-6a71-44ef-ac44-9ffbc391d790",
   "metadata": {},
   "outputs": [],
   "source": [
    "iv = long_to_bytes(int(ciphertext,16))[:16]"
   ]
  },
  {
   "cell_type": "code",
   "execution_count": 19,
   "id": "16007042-eeaf-4277-852b-1cf0d0bd2b2c",
   "metadata": {},
   "outputs": [],
   "source": [
    "    key = long_to_bytes(s)\n",
    "    key = md5(key).digest()\n",
    "    cipher = AES.new(key, AES.MODE_CBC, iv=iv)"
   ]
  },
  {
   "cell_type": "code",
   "execution_count": 20,
   "id": "631f5175-f451-4876-80cf-483e45ba58a7",
   "metadata": {},
   "outputs": [
    {
     "data": {
      "text/plain": [
       "b'FLAG{Do_the_math396691ba7d7270a}'"
      ]
     },
     "execution_count": 20,
     "metadata": {},
     "output_type": "execute_result"
    }
   ],
   "source": [
    "cipher.decrypt(c)"
   ]
  }
 ],
 "metadata": {
  "kernelspec": {
   "display_name": "SageMath 10.3",
   "language": "sage",
   "name": "sagemath"
  },
  "language_info": {
   "codemirror_mode": {
    "name": "ipython",
    "version": 3
   },
   "file_extension": ".py",
   "mimetype": "text/x-python",
   "name": "python",
   "nbconvert_exporter": "python",
   "pygments_lexer": "ipython3",
   "version": "3.11.9"
  }
 },
 "nbformat": 4,
 "nbformat_minor": 5
}
