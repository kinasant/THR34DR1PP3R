{
 "cells": [
  {
   "cell_type": "code",
   "execution_count": 1,
   "id": "82451d8e-1829-478d-a6bc-b005d2d4dff2",
   "metadata": {},
   "outputs": [],
   "source": [
    "from collections import Counter\n",
    "from Crypto.Util.number import *\n",
    "from Crypto.Cipher import AES\n",
    "import hashlib\n",
    "from Crypto.Util.Padding import pad\n",
    "import math"
   ]
  },
  {
   "cell_type": "code",
   "execution_count": 238,
   "id": "4b0688c3-c3bd-4d85-a654-bcce6a232f9c",
   "metadata": {},
   "outputs": [],
   "source": [
    "flag = b'<REDACTED>'\n",
    "P = 13**37\n",
    "password = b'<REDACTED>'\n",
    "pl = list(password)\n",
    "pl = sorted(pl)\n",
    "#assert math.prod(pl) % P == sum(pl) % P\n",
    "password2 = bytes(pl)"
   ]
  },
  {
   "cell_type": "code",
   "execution_count": 20,
   "id": "12bb2540-8e4f-4726-a08f-7b21beedf011",
   "metadata": {},
   "outputs": [],
   "source": [
    "text = string.printable"
   ]
  },
  {
   "cell_type": "code",
   "execution_count": 21,
   "id": "441adccf-4dcc-44c7-9414-a84aa90a3762",
   "metadata": {},
   "outputs": [],
   "source": [
    "ts = sorted(list(text.encode()))"
   ]
  },
  {
   "cell_type": "code",
   "execution_count": 143,
   "id": "06e698c5-b960-4256-8d7d-0275c96adde2",
   "metadata": {},
   "outputs": [],
   "source": [
    "ts1 = [i for i in ts if i%13]"
   ]
  },
  {
   "cell_type": "code",
   "execution_count": 144,
   "id": "7c520a64-e431-4fb4-9638-309fa08f7748",
   "metadata": {},
   "outputs": [
    {
     "data": {
      "text/plain": [
       "92"
      ]
     },
     "execution_count": 144,
     "metadata": {},
     "output_type": "execute_result"
    }
   ],
   "source": [
    "len(ts1)"
   ]
  },
  {
   "cell_type": "code",
   "execution_count": 230,
   "id": "6dddef79-8871-4c15-9be4-371c22c1fbae",
   "metadata": {
    "scrolled": true
   },
   "outputs": [
    {
     "name": "stdout",
     "output_type": "stream",
     "text": [
      "[9, 10, 11, 12, 32, 33, 34, 35, 36, 37, 38, 40, 41, 42, 43, 44, 45, 46, 47, 48, 49, 50, 51, 53, 54, 55, 56, 57, 58, 59, 60, 61, 62, 63, 64, 66, 67, 68, 69, 70, 71, 72, 73, 74, 75, 76, 77, 79, 80, 81, 82, 83, 84, 85, 86, 87, 88, 89, 90, 92, 93, 94, 95, 96, 97, 98, 99, 100, 101, 102, 103, 105, 106, 107, 108, 109, 110, 111, 112, 113, 114, 115, 116, 118, 119, 120, 121, 122, 123, 124, 125, 126]\n"
     ]
    }
   ],
   "source": [
    "print(ts1)"
   ]
  },
  {
   "cell_type": "code",
   "execution_count": 231,
   "id": "793d91c6-d272-470c-b6f1-9575f35e5cf1",
   "metadata": {
    "scrolled": true
   },
   "outputs": [
    {
     "name": "stdout",
     "output_type": "stream",
     "text": [
      "[5, 4, 7, 5, 5, 8, 9, 4, 5, 7, 4, 4, 7, 5, 7, 8, 4, 2, 5, 5, 4, 3, 10, 4, 5, 7, 4, 4, 4, 6, 5, 12, 5, 5, 5, 8, 7, 9, 2, 3, 2, 5, 8, 6, 4, 4, 7, 2, 4, 5, 7, 9, 4, 9, 7, 4, 7, 8, 4, 2, 4, 4, 4, 4, 3, 3, 7, 4, 6, 9, 4, 4, 4, 6, 7, 4, 4, 4, 1, 3, 5, 8, 4, 9, 11, 7, 4, 2, 4]\n"
     ]
    }
   ],
   "source": [
    "print(counts)"
   ]
  },
  {
   "cell_type": "code",
   "execution_count": 232,
   "id": "3d3b365b-5980-4756-a5da-278d19fc003a",
   "metadata": {},
   "outputs": [],
   "source": [
    "import itertools"
   ]
  },
  {
   "cell_type": "code",
   "execution_count": 233,
   "id": "72a57d13-176f-4989-8236-dafe0fdb9a5f",
   "metadata": {},
   "outputs": [],
   "source": [
    "a1=list(itertools.combinations(ts1,89))"
   ]
  },
  {
   "cell_type": "code",
   "execution_count": 237,
   "id": "a47b6ddf-5f4b-4aa8-8936-38c59e906e2c",
   "metadata": {
    "scrolled": true
   },
   "outputs": [
    {
     "name": "stdout",
     "output_type": "stream",
     "text": [
      "found\n",
      "b'DEAD{y0u_Gu3ssEd_mY_p4s5w0rD}\\x03\\x03\\x03'\n"
     ]
    }
   ],
   "source": [
    "for i in a1:\n",
    "    l1=1\n",
    "    for i1,i2 in zip(i,counts):\n",
    "     l1*= (i1**i2)%P\n",
    "     l1 = l1%P\n",
    "    if sum(i1*i2 for i1,i2 in zip(i,counts))==l1:\n",
    "        print(\"found\")\n",
    "        ans = []\n",
    "        for i1,i2 in zip(i,counts):\n",
    "            ans+=[i1]*i2 \n",
    "        password2=bytes(ans)\n",
    "        cipher = AES.new(hashlib.sha256(password2).digest(), AES.MODE_CBC,iv=iv)\n",
    "        print(cipher.decrypt(c))\n",
    "        break\n"
   ]
  }
 ],
 "metadata": {
  "kernelspec": {
   "display_name": "SageMath 10.3",
   "language": "sage",
   "name": "sagemath"
  },
  "language_info": {
   "codemirror_mode": {
    "name": "ipython",
    "version": 3
   },
   "file_extension": ".py",
   "mimetype": "text/x-python",
   "name": "python",
   "nbconvert_exporter": "python",
   "pygments_lexer": "ipython3",
   "version": "3.11.9"
  }
 },
 "nbformat": 4,
 "nbformat_minor": 5
}
