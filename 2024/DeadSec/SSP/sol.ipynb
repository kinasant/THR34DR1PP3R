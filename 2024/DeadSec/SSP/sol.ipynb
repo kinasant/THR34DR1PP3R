{
 "cells": [
  {
   "cell_type": "code",
   "execution_count": 57,
   "id": "c75021c2-d3cd-4c13-ac7c-c3fd312bca9e",
   "metadata": {},
   "outputs": [],
   "source": [
    "from pwn import *"
   ]
  },
  {
   "cell_type": "code",
   "execution_count": 116,
   "id": "77c3dbd0-94d0-4059-beda-a8026a1a656e",
   "metadata": {},
   "outputs": [],
   "source": [
    "def solve(arr,s):\n",
    "    M = identity_matrix(QQ, len(arr))\n",
    "    M = M.augment(vector(arr))\n",
    "    M = M.stack(vector([-1/2 for _ in range(len(arr))] + [-s]))\n",
    "    try:\n",
    "        M1= flatter(M)\n",
    "        row = M1[0][:-1]\n",
    "        ans=[]\n",
    "        for cnt,i in enumerate(row):\n",
    "            if i==1:\n",
    "                ans.append(cnt)\n",
    "        return ans\n",
    "    except:\n",
    "        M1 = M.LLL()\n",
    "        for row in M.LLL():\n",
    "         for row in (row, -row):\n",
    "            if row[-1] == 0:\n",
    "                subset = [i for i, x in enumerate(row[:-1]) if x+1/2==1]\n",
    "                return subset\n",
    "        "
   ]
  },
  {
   "cell_type": "code",
   "execution_count": 133,
   "id": "c68a5199-827d-4bb0-84f9-6b151b069805",
   "metadata": {},
   "outputs": [
    {
     "name": "stdout",
     "output_type": "stream",
     "text": [
      "[*] Closed connection to 35.224.11.111 port 32054\n",
      "[x] Opening connection to 35.224.11.111 on port 32054\n",
      "[x] Opening connection to 35.224.11.111 on port 32054: Trying 35.224.11.111\n",
      "[+] Opening connection to 35.224.11.111 on port 32054: Done\n"
     ]
    },
    {
     "name": "stderr",
     "output_type": "stream",
     "text": [
      "/tmp/ipykernel_10752/3444747682.py:3: BytesWarning: Text is not bytes; assuming ASCII, no guarantees. See https://docs.pwntools.com/#bytes\n",
      "  r.sendline(\"0\")\n"
     ]
    },
    {
     "data": {
      "text/plain": [
       "b'Stage 1 Clear\\n'"
      ]
     },
     "execution_count": 133,
     "metadata": {},
     "output_type": "execute_result"
    }
   ],
   "source": [
    "r.close()\n",
    "r = remote(\"35.224.11.111\",32054)\n",
    "r.sendline(\"0\")\n",
    "r.recv()\n",
    "r.recvline()"
   ]
  },
  {
   "cell_type": "code",
   "execution_count": null,
   "id": "7bc0d557-8738-4bed-ba5a-1cec20213c70",
   "metadata": {
    "scrolled": true
   },
   "outputs": [],
   "source": [
    "for i in range(99):\n",
    " arr=r.recvuntil(b\"\\n\")[:-1].decode()\n",
    " arr = arr.split(\" \")\n",
    " arr = [int(i) for i in arr]\n",
    " s= arr[-1]\n",
    " arr = arr[:-1]\n",
    " ans=solve(arr,s)\n",
    " a1=str(ans)[1:-1].replace(',',\" \")\n",
    " r.sendline(a1)"
   ]
  },
  {
   "cell_type": "code",
   "execution_count": 136,
   "id": "69b26c26-153c-4f4f-80ec-aeedc00af938",
   "metadata": {},
   "outputs": [
    {
     "data": {
      "text/plain": [
       "b'DEAD{T00_B1g_Number_Causes_Pr0blem...}\\n'"
      ]
     },
     "execution_count": 136,
     "metadata": {},
     "output_type": "execute_result"
    }
   ],
   "source": [
    "r.recvline()"
   ]
  }
 ],
 "metadata": {
  "kernelspec": {
   "display_name": "SageMath 10.3",
   "language": "sage",
   "name": "sagemath"
  },
  "language_info": {
   "codemirror_mode": {
    "name": "ipython",
    "version": 3
   },
   "file_extension": ".py",
   "mimetype": "text/x-python",
   "name": "python",
   "nbconvert_exporter": "python",
   "pygments_lexer": "ipython3",
   "version": "3.11.9"
  }
 },
 "nbformat": 4,
 "nbformat_minor": 5
}
