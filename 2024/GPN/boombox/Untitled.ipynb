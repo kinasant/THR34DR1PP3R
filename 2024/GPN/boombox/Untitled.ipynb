{
 "cells": [
  {
   "cell_type": "code",
   "execution_count": 1,
   "id": "5f12999c-852a-4e16-a025-80f7a9ac806a",
   "metadata": {},
   "outputs": [],
   "source": [
    "import random\n",
    "import math\n",
    "from typing import List, Tuple\n",
    "\n",
    "def rndint(a: int, b: int) -> int:\n",
    "    \"\"\"Generates a random integer within the specified range (inclusive).\"\"\"\n",
    "    return random.randint(a, b)\n",
    "\n",
    "def gcd(a: int, b: int) -> int:\n",
    "    \"\"\"Calculates the greatest common divisor of two integers.\"\"\"\n",
    "    while b:\n",
    "        a, b = b, a % b\n",
    "    return a\n",
    "\n",
    "def compose(n: int) -> Tuple[Tuple[List[int], int, int], List[int]]:\n",
    "    \"\"\"Generates the public and private keys for the knapsack cryptosystem.\"\"\"\n",
    "    ps = [rndint(2**(i + n), 2**(i + n + 1) - 1) for i in range(n)]\n",
    "    m = rndint(2**(2 * n + 1) + 1, 2**(2 * n + 2) - 1)\n",
    "    tune = rndint(2, m - 2)\n",
    "    t = tune // gcd(tune, m)\n",
    "\n",
    "    mictape = [(t * a) % m for a in ps]\n",
    "\n",
    "    if gcd(t, m) != 1:\n",
    "        return compose(n)  # Retry if gcd is not 1\n",
    "\n",
    "    return (ps, t, m), mictape\n",
    "\n",
    "def record(msg: List[bool], mic: List[int]) -> int:\n",
    "    \"\"\"Encrypts a message using the public key.\"\"\"\n",
    "    return sum(mic_val for msg_bit, mic_val in zip(msg, mic) if msg_bit)\n",
    "\n",
    "def main():\n",
    "    \"\"\"Demonstrates the knapsack cryptosystem.\"\"\"\n",
    "    n = 42\n",
    "    (ps, _, _), mic = compose(n)\n",
    "    print(\"Public Key (Mic):\", mic)\n",
    "\n",
    "    msg_str = \"GPNCTF{fake_flag}\"\n",
    "    msg_bytes = msg_str.encode()\n",
    "    msg_bin = [\n",
    "        int(bit) for byte in msg_bytes for bit in format(byte, \"08b\")\n",
    "    ]\n",
    "\n",
    "    for chunk in range(0, len(msg_bin), n):\n",
    "        msg_chunk = msg_bin[chunk : chunk + n]\n",
    "        if len(msg_chunk) < n:\n",
    "            msg_chunk.extend([0] * (n - len(msg_chunk)))\n",
    "        c = record(msg_chunk, mic)\n",
    "        print(\"Ciphertext Chunk:\", c)"
   ]
  },
  {
   "cell_type": "code",
   "execution_count": 42,
   "id": "95b4f2f4-d391-4ee9-a3ac-dea72612cb07",
   "metadata": {},
   "outputs": [],
   "source": [
    "from Crypto.Util.number import *"
   ]
  },
  {
   "cell_type": "code",
   "execution_count": 9,
   "id": "5be6cc87-eaa9-4a5b-ba05-3c91eb85bb25",
   "metadata": {},
   "outputs": [],
   "source": [
    "with open(\"output.txt\",\"r\") as f:\n",
    "    y = f.read()"
   ]
  },
  {
   "cell_type": "code",
   "execution_count": 125,
   "id": "db09bd71-b79c-4bc6-8377-860918e31619",
   "metadata": {},
   "outputs": [
    {
     "data": {
      "text/plain": [
       "[26164716679782610683071400,\n",
       " 18179536354421749943360181,\n",
       " 5665675605611009327234952,\n",
       " 50306696368015064022136043,\n",
       " 9760129112235435790997053,\n",
       " 55666059844053563833206217,\n",
       " 16844592035444290437017126,\n",
       " 38380596544512184351649759,\n",
       " 8422829610606521010459307,\n",
       " 61991593557938451876941660,\n",
       " 39790447025261860761497646,\n",
       " 48017326044343373440883482,\n",
       " 56020453465553890215405886,\n",
       " 33717630577181456697432100,\n",
       " 38446470352430301120764167,\n",
       " 11956286975976159307849939,\n",
       " 47803055605410068453065938,\n",
       " 45915004803511711931436810,\n",
       " 24482601816186282662870243,\n",
       " 25803830771195376281772430,\n",
       " 35407508732033692038517544,\n",
       " 61180319487483561607584508,\n",
       " 25231125861794574504466017,\n",
       " 8313835456593256084156278,\n",
       " 17127389362891025344120144,\n",
       " 21245871665329880303420019,\n",
       " 38878412244851399679662521,\n",
       " 38873829041129616412914108,\n",
       " 55803139319518810427462325,\n",
       " 4480398056669715718609757,\n",
       " 16723813500382973499318355,\n",
       " 46788850793793785768241956,\n",
       " 18363270968918184887203944,\n",
       " 2919614635435884742895127,\n",
       " 38003982387728441304493811,\n",
       " 5066781076320234588607777,\n",
       " 2160276302660722051676110,\n",
       " 47965211574081273776856665,\n",
       " 14735899017054553490198493,\n",
       " 14455868058721210953072395,\n",
       " 59777806226033755809142580,\n",
       " 43667948754413413362501037]"
      ]
     },
     "execution_count": 125,
     "metadata": {},
     "output_type": "execute_result"
    }
   ],
   "source": [
    "arr = eval(y[:y.index(\"]\")+1]);arr"
   ]
  },
  {
   "cell_type": "code",
   "execution_count": 26,
   "id": "b843e273-b8ce-45b2-b45a-fd70baef2ca0",
   "metadata": {},
   "outputs": [
    {
     "data": {
      "text/plain": [
       "['591191755265294600006904240',\n",
       " '612990134375087714919032704',\n",
       " '702014866447865251118799888',\n",
       " '631408587334297368272903359',\n",
       " '531069814353289175343659237',\n",
       " '619506025951321329935979611',\n",
       " '633106357798876645310170585',\n",
       " '762239129094955827352040826',\n",
       " '645540547612149444739609749',\n",
       " '155982684851883997809008793']"
      ]
     },
     "execution_count": 26,
     "metadata": {},
     "output_type": "execute_result"
    }
   ],
   "source": [
    "t2 = eval(f'y[y.index(\"]\")+1:].split(\"\"\"\\n\"\"\")[1:-2]');t2"
   ]
  },
  {
   "cell_type": "code",
   "execution_count": 67,
   "id": "6888218d-7e14-4853-8cfa-46dbb8c0cfb4",
   "metadata": {},
   "outputs": [
    {
     "data": {
      "text/plain": [
       "0.490194505308582"
      ]
     },
     "execution_count": 67,
     "metadata": {},
     "output_type": "execute_result"
    }
   ],
   "source": [
    "density=float(42/log(max(arr),2));density"
   ]
  },
  {
   "cell_type": "code",
   "execution_count": 121,
   "id": "bd98988a-515a-4ed0-ae5f-e614aed61f81",
   "metadata": {
    "scrolled": true
   },
   "outputs": [],
   "source": [
    "ans=\"\"\n",
    "for k in t2:\n",
    "    M = identity_matrix(QQ, len(arr))\n",
    "    M = M.augment(vector(arr))\n",
    "    M = M.stack(vector([-1/2 for _ in range(len(arr))] + [-int(k)]))\n",
    "    M1 = M.LLL()\n",
    "    for row in M.LLL():\n",
    "        for row in (row, -row):\n",
    "            if row[-1] == 0:\n",
    "                subset = [t1[i] for i, x in enumerate(row[:-1]) if x+1/2==1]\n",
    "                if int(sum(subset)) == int(k):\n",
    "                    r=(vector(row)[:-1] +vector([1/2 for i in range(len(arr))]))\n",
    "                    ans+=''.join(list(map(str,r)))"
   ]
  },
  {
   "cell_type": "code",
   "execution_count": 122,
   "id": "663048a8-60dd-43ba-adf9-0762adaea701",
   "metadata": {},
   "outputs": [
    {
     "data": {
      "text/plain": [
       "'010001110101000001001110010000110101010001000110011110110110001001100001011000110110101101110000001101000110001101101011010111110111001000110100011100000101111101100011011100100110000101110000001011000101111101111001011000010111000000101101011110010110000101110000001011000101111101111001011000010110001101101011001100010111010001111001001011010111100101100001011000110110101101111101000000000000000000000000000000000000'"
      ]
     },
     "execution_count": 122,
     "metadata": {},
     "output_type": "execute_result"
    }
   ],
   "source": [
    "ans"
   ]
  },
  {
   "cell_type": "code",
   "execution_count": 123,
   "id": "bbd82d4e-e4b1-4d1c-8eef-2cadbfee66ab",
   "metadata": {},
   "outputs": [],
   "source": [
    "a1=[]\n",
    "for i in range(52):\n",
    "    a1.append(ans[8*i:8*i+8])"
   ]
  },
  {
   "cell_type": "code",
   "execution_count": 124,
   "id": "162ee6c3-5a60-49a6-aae3-98a27e10917d",
   "metadata": {},
   "outputs": [
    {
     "name": "stdout",
     "output_type": "stream",
     "text": [
      "GPNCTF{backp4ck_r4p_crap,_yap-yap,_yack1ty-yack}\u0000\u0000\u0000\u0000"
     ]
    }
   ],
   "source": [
    "for i in a1:\n",
    "    print(chr(int(i,2)),end='')"
   ]
  }
 ],
 "metadata": {
  "kernelspec": {
   "display_name": "SageMath 10.3",
   "language": "sage",
   "name": "sagemath"
  },
  "language_info": {
   "codemirror_mode": {
    "name": "ipython",
    "version": 3
   },
   "file_extension": ".py",
   "mimetype": "text/x-python",
   "name": "python",
   "nbconvert_exporter": "python",
   "pygments_lexer": "ipython3",
   "version": "3.11.9"
  }
 },
 "nbformat": 4,
 "nbformat_minor": 5
}
