{
 "cells": [
  {
   "cell_type": "code",
   "execution_count": 1,
   "id": "b79107af-86f9-4e40-a3ac-8f2dbf036e09",
   "metadata": {},
   "outputs": [],
   "source": [
    "from Crypto.Util.number import getPrime\n",
    "from random import randint\n",
    "from hashlib import sha512\n",
    "Pair = tuple[int, int]"
   ]
  },
  {
   "cell_type": "code",
   "execution_count": 2,
   "id": "b552f852-fd89-45a8-bc2d-e43060425d50",
   "metadata": {},
   "outputs": [],
   "source": [
    "def apply(x: Pair, y: Pair) -> Pair:\n",
    "    z0 = x[0] * y[1] + x[1] * y[0] - x[0] * y[0]\n",
    "    z1 = x[0] * y[0] + x[1] * y[1]\n",
    "    return z0 % p, z1 % p\n",
    "\n",
    "def calculate(n: int,flag=0) -> Pair:\n",
    "    out = 0, 1\n",
    "    base = 1, 1\n",
    "    o,b=[],[]\n",
    "    while n > 0:\n",
    "        \n",
    "        b.append(base)\n",
    "        if n & 1 == 1: o.append(out);out = apply(out, base)\n",
    "        n >>= 1\n",
    "        base = apply(base, base)\n",
    "    if flag:\n",
    "        return out,o,b\n",
    "    return out"
   ]
  },
  {
   "cell_type": "code",
   "execution_count": 9,
   "id": "1858e4c9-dbd0-4c53-84c2-54450f708c38",
   "metadata": {},
   "outputs": [],
   "source": [
    "def step(x: Pair, n: int):\n",
    "    '''Performs n steps to x.'''\n",
    "    return apply(x, calculate(n))\n",
    "def main() -> None:\n",
    "    g = tuple(randint(0, p - 1) for _ in range(2))\n",
    "    a = randint(0, p)\n",
    "    b = randint(0, p)\n",
    "\n",
    "    A = step(g, a)\n",
    "    B = step(g, b)\n",
    "\n",
    "    print(p)\n",
    "    print(g)\n",
    "    print(A)\n",
    "    print(B)\n",
    "\n",
    "    shared = step(A, b)\n",
    "    assert shared == step(B, a)\n",
    "\n",
    "    pad = sha512(str(shared).encode()).digest()\n",
    "    print(xor(FLAG, pad))\n"
   ]
  },
  {
   "cell_type": "code",
   "execution_count": 5,
   "id": "ef76634e-fc67-4bc7-9602-1179c72581eb",
   "metadata": {},
   "outputs": [],
   "source": [
    "R.<x0,x1,y0,y1,z0,z1> =  PolynomialRing(ZZ)"
   ]
  },
  {
   "cell_type": "code",
   "execution_count": 6,
   "id": "071f285e-502f-4b58-b18b-cd332b283cce",
   "metadata": {},
   "outputs": [],
   "source": [
    "I  = Ideal([x0*y1+x1*y0-x0*y0-z0,x0*y0+x1*y1-z1])"
   ]
  },
  {
   "cell_type": "code",
   "execution_count": 7,
   "id": "bd22059e-7fb1-4efd-921a-07782936c783",
   "metadata": {},
   "outputs": [
    {
     "data": {
      "text/plain": [
       "[x0^2*y1 + x0*x1*y1 - x1^2*y1 - x0*z0 - x0*z1 + x1*z1, x0*y0 + x1*y1 - z1, x1*y0 + x0*y1 + x1*y1 - z0 - z1]"
      ]
     },
     "execution_count": 7,
     "metadata": {},
     "output_type": "execute_result"
    }
   ],
   "source": [
    "I.groebner_basis()"
   ]
  },
  {
   "cell_type": "code",
   "execution_count": 8,
   "id": "edf01d09-5dae-4459-80ed-b18fc0ba00db",
   "metadata": {},
   "outputs": [],
   "source": [
    "def ua1(x,z):\n",
    "    z0,z1 = z\n",
    "    x0,x1= x\n",
    "    y1=((x0*z0 + x0*z1-x1*z1)%p)*(pow((x0^2+x0*x1-x1^2),-1,p)) %p\n",
    "    y0 = ((z1-x1*y1)%p * pow(x0,-1,p)) %p\n",
    "    return y0,y1"
   ]
  },
  {
   "cell_type": "code",
   "execution_count": 3,
   "id": "2596f2cf-5930-4ac3-b1bc-bd4433b6151d",
   "metadata": {},
   "outputs": [],
   "source": [
    "def ua2(y,z):\n",
    "    y0,y1=y\n",
    "    z0,z1 = z\n",
    "    x1 = (((z0+z1- pow(y0,-1,p)*z1*y1)%p)*pow((y0-y1^2*pow(y0,-1,p)+y1),-1,p)) %p\n",
    "    x0 = ((z1-x1*y1)*pow(y0,-1,p))%p\n",
    "    return x0,x1"
   ]
  },
  {
   "cell_type": "code",
   "execution_count": 42,
   "id": "672f7cf1-7394-485a-94bd-998c12f66123",
   "metadata": {},
   "outputs": [],
   "source": [
    "p=140323158913416495607520736187548995477774864895449373468435168606940894555091715325755245563618777520381345121826124291879072024129139794758353829170487152290036863771427918014687523291663877491666410660298255515196964873944928956895167652588843616727666115196647426152811435167407394960435891152283442366721\n",
    "g=(96065253104055475368515351480749372850658086665031683689391433619786525841252022013348418216780129963411710917302022475212035579772549622047772413277044476931991100469638284113901919733675144788049607999711496364391389612383885735460390196619821411998848060208912802838145365054170790882835846039461477718592, 99241616571709523646659145402511086659276737895777010655080069795289409091105858433710404513588065826008320709508748555232998727290258965620812790826701703542423766306117851146140634247906095481346444357123297761881438234083584836393572339820023598801127329326758926529813665950889866710376403818615042210724)\n",
    "A=(70755695722452190644681854912493449110123792967984325777144153291795297730471865203878351550134745747839905472832417565386100721034554991782211134122667955909129461935072670637104557733518048519759925441567454988894610693095988261459294358350906447578625319131211019007537053689563772428590632011546870587548, 67209626648557152207459211543890871397518255584981755641031188457446084495247511864090204533159666638951190009379067537952490757956859052998865712873197974689323985952177932343928382624951392835548222455898153557185369330197085287972647654361464363270469055087587755117442462138962625643131163131541853061105)\n",
    "B=(112356264561144892053527289833892910675229600209578481387952173298070535545532140474473984252645999236867287593260325203405225799985387664655169620807429202440801811880698414710903311724048492305357174522756960623684589130082192061927190750200168319419891243856185874901350055033712921163239281745750477183871, 53362886892304808290625786352337191943295467155122569556336867663859530697649464591551819415844644455424276970213068575695727349121464360678240605137740996864232092508175716627306324344248722088013523622985501843963007084915323781694266339448976475002289825133821073110606693351553820493128680615728977879615)\n",
    "a1=b'\\xbaH\\xca[V\\xdf\\xbb0d2jN\"\\x9d$e\\xec\\xe0M\\x00\\xdb\\xf0\\x8f\\x99f\\xc5\\n\\x8a\\xc2h\\xa7\\xa7'\n"
   ]
  },
  {
   "cell_type": "code",
   "execution_count": 45,
   "id": "be93ce5c-0a26-4810-856d-26dafedab47f",
   "metadata": {},
   "outputs": [
    {
     "data": {
      "text/plain": [
       "True"
      ]
     },
     "execution_count": 45,
     "metadata": {},
     "output_type": "execute_result"
    }
   ],
   "source": [
    "ua1(g,A) == ua2(g,A)"
   ]
  },
  {
   "cell_type": "code",
   "execution_count": 44,
   "id": "ae1ee1bd-9a94-46fb-b5a9-9684e3c096e6",
   "metadata": {},
   "outputs": [],
   "source": [
    "calculated_a = ua1(g,A)"
   ]
  },
  {
   "cell_type": "code",
   "execution_count": 32,
   "id": "dfa69b81-7c0d-48bf-a7f5-9f63bf0f4ddc",
   "metadata": {},
   "outputs": [],
   "source": [
    "shared=apply(B,calculated_a)"
   ]
  },
  {
   "cell_type": "code",
   "execution_count": 33,
   "id": "e1b1774f-2386-4531-beb5-debd6d23e6ee",
   "metadata": {},
   "outputs": [],
   "source": [
    "pad = sha512(str(shared).encode()).digest()"
   ]
  },
  {
   "cell_type": "code",
   "execution_count": 34,
   "id": "c61d4371-cbe9-4330-8321-6675560a51e9",
   "metadata": {},
   "outputs": [],
   "source": [
    "from pwn import xor"
   ]
  },
  {
   "cell_type": "code",
   "execution_count": 35,
   "id": "f9166b0c-7244-460f-9649-d07d22d10aa0",
   "metadata": {},
   "outputs": [
    {
     "data": {
      "text/plain": [
       "b\"corctf{w4it_i7's_4ll_f1b0n4cci?}\\x18\\x04\\xa1\\xbfX>\\xc2\\xd8+\\xc4.R\\x04\\\\(\\x17\\x1e\\xbf\\xdeUv\\xcb\\x1c<\\xa41\\x18\\x86\\xdb\\xa9<\\xbc\""
      ]
     },
     "execution_count": 35,
     "metadata": {},
     "output_type": "execute_result"
    }
   ],
   "source": [
    "xor(pad,a1)"
   ]
  }
 ],
 "metadata": {
  "kernelspec": {
   "display_name": "SageMath 10.3",
   "language": "sage",
   "name": "sagemath"
  },
  "language_info": {
   "codemirror_mode": {
    "name": "ipython",
    "version": 3
   },
   "file_extension": ".py",
   "mimetype": "text/x-python",
   "name": "python",
   "nbconvert_exporter": "python",
   "pygments_lexer": "ipython3",
   "version": "3.11.9"
  }
 },
 "nbformat": 4,
 "nbformat_minor": 5
}
