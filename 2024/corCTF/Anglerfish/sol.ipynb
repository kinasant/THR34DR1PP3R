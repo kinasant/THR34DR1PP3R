{
 "cells": [
  {
   "cell_type": "code",
   "execution_count": 121,
   "id": "6497d0d5-9246-4696-9c1e-11f79bf19132",
   "metadata": {},
   "outputs": [
    {
     "name": "stdout",
     "output_type": "stream",
     "text": [
      "I caught an anglerfish in the sea! \n"
     ]
    }
   ],
   "source": [
    "#!/usr/bin/sage\n",
    "\n",
    "import sys\n",
    "print(\"I caught an anglerfish in the sea! \")\n",
    "sys.stdout.flush()\n",
    "\n",
    "from hashlib import sha256\n",
    "from Crypto.Util.number import bytes_to_long\n",
    "from random import SystemRandom\n",
    "import ast\n",
    "\n",
    "n = 100\n",
    "m = 100\n",
    "q = 5\n",
    "FF.<x> = GF(q)\n",
    "\n",
    "def apply(F, v):\n",
    "    out = []\n",
    "    for i in range(m):\n",
    "        out.append((v.T * F[i] * v)[0, 0])\n",
    "    return matrix(FF, m, 1, out)\n",
    "\n",
    "def apply_verif_info(F, a, b):\n",
    "    out = []\n",
    "    for i in range(m):\n",
    "        out.append((a.T * (F[i] + F[i].T) * b)[0, 0])\n",
    "    return matrix(FF, m, 1, out)\n",
    "\n",
    "def create_pok(v, s, F):\n",
    "    proofs = []\n",
    "    for i in range(64):\n",
    "        t = matrix(FF, n, 1, [FF.random_element() for i in range(n)])\n",
    "        com = apply(F, t)\n",
    "        verif = apply_verif_info(F, t, s)\n",
    "        a = list(FF)[sha256(bytes([list(FF).index(i[0]) for i in list(com) + list(v) + list(verif)])).digest()[0] % len(list(FF))]\n",
    "        proofs.append((com, t - a * s, verif))\n",
    "    return proofs\n",
    "\n",
    "def verif_pok(v, F, pis):\n",
    "    coms = []\n",
    "    for pi in pis:\n",
    "        com = pi[0]\n",
    "        assert com not in coms\n",
    "        coms.append(com)\n",
    "        resp = pi[1]\n",
    "        verif = pi[2]\n",
    "        a = list(FF)[sha256(bytes([list(FF).index(i[0]) for i in list(com) + list(v) + list(verif)])).digest()[0] % len(list(FF))]\n",
    "        out1 = apply(F, resp)\n",
    "        out2 = com + (a * a) * v - a * verif\n",
    "        assert out1 == out2"
   ]
  },
  {
   "cell_type": "code",
   "execution_count": 2,
   "id": "03c9db68-5f28-4c1e-968d-3da34984e894",
   "metadata": {},
   "outputs": [],
   "source": [
    "from pwn import *"
   ]
  },
  {
   "cell_type": "code",
   "execution_count": null,
   "id": "3d3cbcea-8fe9-4d5c-b954-74a36b8baca1",
   "metadata": {},
   "outputs": [],
   "source": [
    "r =remote(\"be.ax\",31106)"
   ]
  },
  {
   "cell_type": "code",
   "execution_count": 146,
   "id": "d50a67e0-ad8c-482d-baf9-c2b5413585fe",
   "metadata": {},
   "outputs": [
    {
     "name": "stdout",
     "output_type": "stream",
     "text": [
      "b'I caught an anglerfish in the sea! \\n'\n"
     ]
    },
    {
     "name": "stderr",
     "output_type": "stream",
     "text": [
      "/tmp/ipykernel_6839/3180039595.py:2: BytesWarning: Text is not bytes; assuming ASCII, no guarantees. See https://docs.pwntools.com/#bytes\n",
      "  t1=r.recvuntil(\"C\")[:-Integer(2)]\n"
     ]
    }
   ],
   "source": [
    "print(r.recvline())\n",
    "t1=r.recvuntil(\"C\")[:-2]"
   ]
  },
  {
   "cell_type": "code",
   "execution_count": 147,
   "id": "a806a7a4-9d0b-49b5-9a5f-6bf6fa55b76a",
   "metadata": {},
   "outputs": [],
   "source": [
    "t2=t1.decode().split(\"\\n\")"
   ]
  },
  {
   "cell_type": "code",
   "execution_count": 148,
   "id": "5b5d0659-c356-4843-8d6b-990937d593a3",
   "metadata": {},
   "outputs": [],
   "source": [
    "t2 = [eval(i[4:]) for i in t2]"
   ]
  },
  {
   "cell_type": "code",
   "execution_count": 149,
   "id": "66770bf2-4989-4598-90f0-55146d42333a",
   "metadata": {},
   "outputs": [
    {
     "name": "stderr",
     "output_type": "stream",
     "text": [
      "/tmp/ipykernel_6839/2618346645.py:1: BytesWarning: Text is not bytes; assuming ASCII, no guarantees. See https://docs.pwntools.com/#bytes\n",
      "  r.recvuntil(\"=\")\n"
     ]
    },
    {
     "data": {
      "text/plain": [
       "b'an you catch an anglerfish? \\nseed ='"
      ]
     },
     "execution_count": 149,
     "metadata": {},
     "output_type": "execute_result"
    }
   ],
   "source": [
    "r.recvuntil(\"=\")"
   ]
  },
  {
   "cell_type": "code",
   "execution_count": 150,
   "id": "3e6b0889-e174-4bff-8baa-672192177566",
   "metadata": {},
   "outputs": [
    {
     "name": "stderr",
     "output_type": "stream",
     "text": [
      "/tmp/ipykernel_6839/740789318.py:1: BytesWarning: Text is not bytes; assuming ASCII, no guarantees. See https://docs.pwntools.com/#bytes\n",
      "  gen_seed=eval(r.recvuntil(\"v\")[:-Integer(2)])\n"
     ]
    }
   ],
   "source": [
    "gen_seed=eval(r.recvuntil(\"v\")[:-2])"
   ]
  },
  {
   "cell_type": "code",
   "execution_count": 151,
   "id": "61649469-5cb5-47dc-8646-3de55a327aef",
   "metadata": {},
   "outputs": [],
   "source": [
    "gen_seed = bytes(gen_seed)\n",
    "F = []\n",
    "for i in range(m):\n",
    "    cur = []\n",
    "    for j in range(n):\n",
    "        cur.append([])\n",
    "        for k in range(n):\n",
    "            cur[-1].append(list(FF)[sha256(gen_seed).digest()[0] % len(list(FF))])\n",
    "            gen_seed = sha256(gen_seed).digest()\n",
    "    F.append(matrix(FF, n, n, cur))"
   ]
  },
  {
   "cell_type": "code",
   "execution_count": 152,
   "id": "87c8ed99-aced-4cfa-a3d1-2aa692f1b9e8",
   "metadata": {},
   "outputs": [
    {
     "data": {
      "text/plain": [
       "b' = [0, 0, 2, 4, 2, 2, 0, 0, 3, 3, 3, 4, 4, 3, 0, 2, 3, 1, 3, 1, 4, 4, 2, 1, 0, 1, 1, 0, 3, 1, 4, 4, 2, 4, 2, 2, 4, 0, 3, 2, 3, 0, 0, 1, 3, 1, 0, 1, 0, 0, 1, 3, 2, 1, 3, 4, 1, 3, 1, 3, 4, 3, 2, 0, 1, 0, 3, 2, 4, 4, 3, 2, 0, 0, 1, 2, 3, 4, 3, 1, 2, 1, 2, 0, 1, 1, 1, 2, 3, 1, 2, 1, 4, 3, 0, 2, 0, 3, 1, 2]\\nm0 = '"
      ]
     },
     "execution_count": 152,
     "metadata": {},
     "output_type": "execute_result"
    }
   ],
   "source": [
    "r.recv()"
   ]
  },
  {
   "cell_type": "code",
   "execution_count": null,
   "id": "b4b9309a-3adc-49f9-b19a-09ca9d65b0bb",
   "metadata": {},
   "outputs": [
    {
     "name": "stderr",
     "output_type": "stream",
     "text": [
      "/tmp/ipykernel_6839/358877357.py:11: BytesWarning: Text is not bytes; assuming ASCII, no guarantees. See https://docs.pwntools.com/#bytes\n",
      "  r.recvuntil(\"=\")\n"
     ]
    }
   ],
   "source": [
    "r.recvuntil(\"=\")\n",
    "v=eval(r.recvline()[:-1])"
   ]
  },
  {
   "cell_type": "markdown",
   "id": "7b3764a1-5253-44e4-be2a-87a3a3a9bff4",
   "metadata": {},
   "source": [
    "messed up taking v so filled manually"
   ]
  },
  {
   "cell_type": "code",
   "execution_count": 153,
   "id": "80ab1ce3-ea4c-494a-bcfd-6d573cad52bc",
   "metadata": {},
   "outputs": [],
   "source": [
    "v= [0, 0, 2, 4, 2, 2, 0, 0, 3, 3, 3, 4, 4, 3, 0, 2, 3, 1, 3, 1, 4, 4, 2, 1, 0, 1, 1, 0, 3, 1, 4, 4, 2, 4, 2, 2, 4, 0, 3, 2, 3, 0, 0, 1, 3, 1, 0, 1, 0, 0, 1, 3, 2, 1, 3, 4, 1, 3, 1, 3, 4, 3, 2, 0, 1, 0, 3, 2, 4, 4, 3, 2, 0, 0, 1, 2, 3, 4, 3, 1, 2, 1, 2, 0, 1, 1, 1, 2, 3, 1, 2, 1, 4, 3, 0, 2, 0, 3, 1, 2]"
   ]
  },
  {
   "cell_type": "code",
   "execution_count": 72,
   "id": "644d67dd-44a2-4ed2-aa37-8f39bc3de092",
   "metadata": {},
   "outputs": [],
   "source": [
    "def find():\n",
    " a=1\n",
    " while a:\n",
    "    resp,verif = matrix(FF, n, 1, [FF.random_element() for i in range(n)]),matrix(FF, n, 1, [FF.random_element() for i in range(n)])\n",
    "    com = apply(F,resp)\n",
    "    a = list(FF)[sha256(bytes([list(FF).index(i[0]) for i in list(com) + list(v) + list(verif)])).digest()[0] % len(list(FF))]\n",
    " return com,resp,verif"
   ]
  },
  {
   "cell_type": "code",
   "execution_count": 154,
   "id": "021f5888-c2b5-43f4-8b27-51a580b73ad2",
   "metadata": {},
   "outputs": [],
   "source": [
    "v = matrix(FF, m, 1, [list(FF)[i] for i in v])"
   ]
  },
  {
   "cell_type": "code",
   "execution_count": 162,
   "id": "ba7a801f-311b-4f52-b74a-37f27d9b8399",
   "metadata": {},
   "outputs": [],
   "source": [
    "pok = find()"
   ]
  },
  {
   "cell_type": "markdown",
   "id": "108911de-f132-4872-8043-03b6eaedbb0d",
   "metadata": {},
   "source": [
    "Testing taking input so had to do 2 iterations manually"
   ]
  },
  {
   "cell_type": "code",
   "execution_count": 167,
   "id": "e7b25c6d-836b-4ae7-8786-a0dfc0075514",
   "metadata": {},
   "outputs": [
    {
     "name": "stderr",
     "output_type": "stream",
     "text": [
      "/tmp/ipykernel_6839/3488409110.py:1: BytesWarning: Text is not bytes; assuming ASCII, no guarantees. See https://docs.pwntools.com/#bytes\n",
      "  r.sendline(f'{pok[Integer(2)].list()}')\n"
     ]
    }
   ],
   "source": [
    "r.sendline(f'{pok[2].list()}')"
   ]
  },
  {
   "cell_type": "code",
   "execution_count": 166,
   "id": "db874d58-b8c8-4bb7-b9fc-6df7a8b8d249",
   "metadata": {},
   "outputs": [
    {
     "data": {
      "text/plain": [
       "b'm2 = '"
      ]
     },
     "execution_count": 166,
     "metadata": {},
     "output_type": "execute_result"
    }
   ],
   "source": [
    "r.recv()"
   ]
  },
  {
   "cell_type": "code",
   "execution_count": 168,
   "id": "7cf3bc3f-09d1-4478-aa00-f5e389ed1292",
   "metadata": {
    "scrolled": true
   },
   "outputs": [
    {
     "name": "stdout",
     "output_type": "stream",
     "text": [
      "0\n"
     ]
    },
    {
     "name": "stderr",
     "output_type": "stream",
     "text": [
      "/tmp/ipykernel_6839/3282014646.py:5: BytesWarning: Text is not bytes; assuming ASCII, no guarantees. See https://docs.pwntools.com/#bytes\n",
      "  r.sendline(f'{pok[Integer(0)].list()}')\n",
      "/tmp/ipykernel_6839/3282014646.py:7: BytesWarning: Text is not bytes; assuming ASCII, no guarantees. See https://docs.pwntools.com/#bytes\n",
      "  r.sendline(f'{pok[Integer(1)].list()}')\n",
      "/tmp/ipykernel_6839/3282014646.py:9: BytesWarning: Text is not bytes; assuming ASCII, no guarantees. See https://docs.pwntools.com/#bytes\n",
      "  r.sendline(f'{pok[Integer(2)].list()}')\n"
     ]
    },
    {
     "name": "stdout",
     "output_type": "stream",
     "text": [
      "1\n",
      "2\n",
      "3\n",
      "4\n",
      "5\n",
      "6\n",
      "7\n",
      "8\n",
      "9\n",
      "10\n",
      "11\n",
      "12\n",
      "13\n",
      "14\n",
      "15\n",
      "16\n",
      "17\n",
      "18\n",
      "19\n",
      "20\n",
      "21\n",
      "22\n",
      "23\n",
      "24\n",
      "25\n",
      "26\n",
      "27\n",
      "28\n",
      "29\n",
      "30\n",
      "31\n",
      "32\n",
      "33\n",
      "34\n",
      "35\n",
      "36\n",
      "37\n",
      "38\n",
      "39\n",
      "40\n",
      "41\n",
      "42\n",
      "43\n",
      "44\n",
      "45\n",
      "46\n",
      "47\n",
      "48\n",
      "49\n",
      "50\n",
      "51\n",
      "52\n",
      "53\n",
      "54\n",
      "55\n",
      "56\n",
      "57\n",
      "58\n",
      "59\n",
      "60\n",
      "61\n",
      "b'corctf{extra_equations_means_extra_information_isnt_zk}\\n'\n"
     ]
    }
   ],
   "source": [
    "for i in range(62):\n",
    "    pok = find()\n",
    "    r.recv()\n",
    "    r.sendline(f'{pok[0].list()}')\n",
    "    r.recv()\n",
    "    r.sendline(f'{pok[1].list()}')\n",
    "    r.recv()\n",
    "    r.sendline(f'{pok[2].list()}')\n",
    "print(r.recvline())"
   ]
  }
 ],
 "metadata": {
  "kernelspec": {
   "display_name": "SageMath 10.3",
   "language": "sage",
   "name": "sagemath"
  },
  "language_info": {
   "codemirror_mode": {
    "name": "ipython",
    "version": 3
   },
   "file_extension": ".py",
   "mimetype": "text/x-python",
   "name": "python",
   "nbconvert_exporter": "python",
   "pygments_lexer": "ipython3",
   "version": "3.11.9"
  }
 },
 "nbformat": 4,
 "nbformat_minor": 5
}
