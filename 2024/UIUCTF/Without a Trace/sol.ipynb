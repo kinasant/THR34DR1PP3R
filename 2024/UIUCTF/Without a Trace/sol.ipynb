{
 "cells": [
  {
   "cell_type": "code",
   "execution_count": 15,
   "id": "3c68774c-0365-4668-a04b-5c82d6326189",
   "metadata": {},
   "outputs": [],
   "source": [
    "import numpy as np\n",
    "from Crypto.Util.number import bytes_to_long\n",
    "from itertools import permutations\n",
    "def inputs():\n",
    "    print(\"[WAT] Define diag(u1, u2, u3. u4, u5)\")\n",
    "    M = [\n",
    "        [0, 0, 0, 0, 0],\n",
    "        [0, 0, 0, 0, 0],\n",
    "        [0, 0, 0, 0, 0],\n",
    "        [0, 0, 0, 0, 0],\n",
    "        [0, 0, 0, 0, 0],\n",
    "    ]\n",
    "    for i in range(5):\n",
    "        try:\n",
    "            M[i][i] = int(input(f\"[WAT] u{i + 1} = \"))\n",
    "        except:\n",
    "            return None\n",
    "    return M\n",
    "\n",
    "def handler(signum, frame):\n",
    "    raise Exception(\"[WAT] You're trying too hard, try something simpler\")\n",
    "\n",
    "def check(M):\n",
    "    def sign(sigma):\n",
    "        l = 0\n",
    "        for i in range(5):\n",
    "            for j in range(i + 1, 5):\n",
    "                if sigma[i] > sigma[j]:\n",
    "                    l += 1\n",
    "        return (-1)**l\n",
    "\n",
    "    res = 0\n",
    "    for sigma in permutations([0,1,2,3,4]):\n",
    "        curr = 1\n",
    "        for i in range(5):\n",
    "            curr *= M[sigma[i]][i]\n",
    "        res += sign(sigma) * curr\n",
    "    return res\n",
    "\n",
    "def fun(M):\n",
    "    f = [bytes_to_long(bytes(FLAG[5*i:5*(i+1)], 'utf-8')) for i in range(5)]\n",
    "    F = [\n",
    "        [0, 0, 0, 0, 0],\n",
    "        [0, 0, 0, 0, 0],\n",
    "        [0, 0, 0, 0, 0],\n",
    "        [0, 0, 0, 0, 0],\n",
    "        [0, 0, 0, 0, 0],\n",
    "    ]\n",
    "    for i in range(5):\n",
    "        F[i][i] = f[i]\n",
    "\n",
    "    try:\n",
    "        R = np.matmul(F, M)\n",
    "        return np.trace(R)\n",
    "\n",
    "    except:\n",
    "        print(\"[WAT] You're trying too hard, try something simpler\")\n",
    "        return None\n",
    "\n",
    "def main():\n",
    "    print(\"[WAT] Welcome\")\n",
    "    M = inputs()\n",
    "    if M is None:\n",
    "        print(\"[WAT] You tried something weird...\")\n",
    "        return\n",
    "    elif check(M) == 0:\n",
    "        print(\"[WAT] It's not going to be that easy...\")\n",
    "        return\n",
    "\n",
    "    res = fun(M)\n",
    "    if res == None:\n",
    "        print(\"[WAT] You tried something weird...\")\n",
    "        return\n",
    "    print(f\"[WAT] Have fun: {res}\")\n",
    "\n"
   ]
  },
  {
   "cell_type": "code",
   "execution_count": 34,
   "id": "ae311056-57cd-44e1-b71b-0cb9465a9a96",
   "metadata": {},
   "outputs": [],
   "source": [
    "from Crypto.Util.number import *"
   ]
  },
  {
   "cell_type": "code",
   "execution_count": 1,
   "id": "d565689e-8e06-45b1-ae7e-1055c425332d",
   "metadata": {},
   "outputs": [],
   "source": [
    "i1,i2,i3,i4,i5= var(\"i1 i2 i3 i4 i5\")"
   ]
  },
  {
   "cell_type": "code",
   "execution_count": 2,
   "id": "c395e510-195f-44eb-94ad-f58d7b3a3d70",
   "metadata": {},
   "outputs": [],
   "source": [
    "M = Matrix.diagonal([i1,i2,i3,i4,i5])"
   ]
  },
  {
   "cell_type": "code",
   "execution_count": 6,
   "id": "83b4f1f3-3fff-4d18-aaa9-b99e2e1f4ff9",
   "metadata": {},
   "outputs": [],
   "source": [
    "f1,f2,f3,f4,f5 = var(\"f1 f2 f3 f4 f5\")"
   ]
  },
  {
   "cell_type": "code",
   "execution_count": 7,
   "id": "39fd9f55-6ae4-4a69-aea1-93319b2f0525",
   "metadata": {},
   "outputs": [],
   "source": [
    "F = Matrix.diagonal([f1,f2,f3,f4,f5])"
   ]
  },
  {
   "cell_type": "code",
   "execution_count": 17,
   "id": "0f62e286-d57a-463d-b9d5-52eb65645847",
   "metadata": {},
   "outputs": [
    {
     "data": {
      "text/plain": [
       "f1*i1 + f2*i2 + f3*i3 + f4*i4 + f5*i5"
      ]
     },
     "execution_count": 17,
     "metadata": {},
     "output_type": "execute_result"
    }
   ],
   "source": [
    "(M*F).trace()"
   ]
  },
  {
   "cell_type": "code",
   "execution_count": 36,
   "id": "5a827d19-e7b9-4849-b8f0-2e36898857cf",
   "metadata": {},
   "outputs": [],
   "source": [
    "l1 = 2000128101369\n",
    "l2= 2504408575853\n",
    "l3 = 2440285994541\n",
    "l4 = 2426159182680\n",
    "l5 = 2163980646766\n",
    "l6 = 2465934208374"
   ]
  },
  {
   "cell_type": "code",
   "execution_count": 38,
   "id": "d50ff7df-6a24-46b6-9891-ad149634ad2d",
   "metadata": {},
   "outputs": [],
   "source": [
    "lt = [l2,l3,l4,l5,l6]"
   ]
  },
  {
   "cell_type": "code",
   "execution_count": 41,
   "id": "83ec8f7b-e7c5-4ace-ad4d-933ef5211e95",
   "metadata": {},
   "outputs": [],
   "source": [
    "t1=b''\n",
    "for i in lt:\n",
    "    t1+=long_to_bytes(i-l1)"
   ]
  },
  {
   "cell_type": "code",
   "execution_count": 42,
   "id": "1cdcffe3-f895-408d-9581-a86a7feece4d",
   "metadata": {},
   "outputs": [
    {
     "data": {
      "text/plain": [
       "b'uiuctf{tr4c1ng_&&_mult5!}'"
      ]
     },
     "execution_count": 42,
     "metadata": {},
     "output_type": "execute_result"
    }
   ],
   "source": [
    "t1"
   ]
  }
 ],
 "metadata": {
  "kernelspec": {
   "display_name": "SageMath 10.3",
   "language": "sage",
   "name": "sagemath"
  },
  "language_info": {
   "codemirror_mode": {
    "name": "ipython",
    "version": 3
   },
   "file_extension": ".py",
   "mimetype": "text/x-python",
   "name": "python",
   "nbconvert_exporter": "python",
   "pygments_lexer": "ipython3",
   "version": "3.11.9"
  }
 },
 "nbformat": 4,
 "nbformat_minor": 5
}
