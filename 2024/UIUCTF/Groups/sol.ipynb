{
 "cells": [
  {
   "cell_type": "code",
   "execution_count": 3,
   "id": "4e07ddea-2171-49db-85d8-5209f9b4c414",
   "metadata": {},
   "outputs": [],
   "source": [
    "from random import randint\n",
    "from math import gcd, log\n",
    "import time\n",
    "from Crypto.Util.number import *\n",
    "\n",
    "\n",
    "def check(n, iterations=50):\n",
    "    if isPrime(n):\n",
    "        return False\n",
    "\n",
    "    i = 0\n",
    "    while i < iterations:\n",
    "        a = randint(2, n - 1)\n",
    "        if gcd(a, n) == 1:\n",
    "            i += 1\n",
    "            if pow(a, n - 1, n) != 1:\n",
    "                return False\n",
    "    return True\n",
    "\n",
    "\n",
    "def generate_challenge(c):\n",
    "    a = randint(2, c - 1)\n",
    "    while gcd(a, c) != 1:\n",
    "        a = randint(2, c - 1)\n",
    "    k = randint(2, c - 1)\n",
    "    return (a, pow(a, k, c))\n",
    "\n",
    "\n",
    "def get_flag():\n",
    "    return b'crypto{meow_meow_cat_lol}'\n",
    "\n",
    "def main():\n",
    "    c = int(input('c = '))\n",
    "\n",
    "    if log(c, 2) < 512:\n",
    "        print(f'c must be least 512 bits large.')\n",
    "    elif not check(c):\n",
    "        print(f'No cheating!')\n",
    "    else:\n",
    "        a, b = generate_challenge(c)\n",
    "        print(f'a = {a}')\n",
    "        print(f'a^k = {b} (mod c)')\n",
    "        \n",
    "        k = int(input('k = '))\n",
    "\n",
    "        if pow(a, k, c) == b:\n",
    "            print(get_flag())\n",
    "        else:\n",
    "            print('Wrong k')\n",
    "        \n"
   ]
  },
  {
   "cell_type": "code",
   "execution_count": 14,
   "id": "53b48780-bd67-44d8-8458-b86fb47b8805",
   "metadata": {},
   "outputs": [],
   "source": [
    "from pwn import *"
   ]
  },
  {
   "cell_type": "code",
   "execution_count": 2,
   "id": "c6464d6e-b4a6-46ee-822c-b7b96ffc689e",
   "metadata": {},
   "outputs": [],
   "source": [
    "from math import prod"
   ]
  },
  {
   "cell_type": "code",
   "execution_count": 1,
   "id": "43ad6589-ef86-4860-ba7f-d07248ce70b4",
   "metadata": {},
   "outputs": [],
   "source": [
    "s =[17, 23, 29, 31, 43, 53, 61, 67, 71, 79, 89, 97, 113, 211, 241, 313,331, 337, 353, 421, 463, 521, 547, 617, 661, 673, 859, 881, 911, 1093,1249, 1321, 2003, 2081, 2311, 2731, 2861, 3121, 3361, 3433, 3697, 4621,5281, 6007, 7393, 8737, 9241, 13729, 14561, 18481, 21841, 48049, 96097,120121]"
   ]
  },
  {
   "cell_type": "code",
   "execution_count": 5,
   "id": "7b10cbbb-f0bf-4b9e-a3d3-f3e7207796f7",
   "metadata": {},
   "outputs": [
    {
     "data": {
      "text/plain": [
       "True"
      ]
     },
     "execution_count": 5,
     "metadata": {},
     "output_type": "execute_result"
    }
   ],
   "source": [
    "check(prod(s))"
   ]
  },
  {
   "cell_type": "code",
   "execution_count": 37,
   "id": "fea5dc67-199b-49d3-b75c-2af676894c31",
   "metadata": {},
   "outputs": [],
   "source": [
    "cmd = \"ncat --ssl groups.chal.uiuc.tf 1337\""
   ]
  },
  {
   "cell_type": "code",
   "execution_count": 78,
   "id": "92ac8d3d-30d3-4d63-b01d-bfd49c5fe8d2",
   "metadata": {},
   "outputs": [
    {
     "name": "stdout",
     "output_type": "stream",
     "text": [
      "[*] Stopped process '/bin/sh' (pid 4034)\n",
      "[x] Starting local process '/bin/sh'\n",
      "[+] Starting local process '/bin/sh': pid 4142\n"
     ]
    }
   ],
   "source": [
    "r = process(cmd,shell=True,stdin=PTY)"
   ]
  },
  {
   "cell_type": "code",
   "execution_count": 79,
   "id": "f8beba88-fcd1-4cda-9285-455e68ad9ceb",
   "metadata": {},
   "outputs": [
    {
     "name": "stderr",
     "output_type": "stream",
     "text": [
      "/tmp/ipykernel_3184/2656000915.py:2: BytesWarning: Text is not bytes; assuming ASCII, no guarantees. See https://docs.pwntools.com/#bytes\n",
      "  r.sendline(str(t1))\n",
      "/tmp/ipykernel_3184/2656000915.py:3: BytesWarning: Text is not bytes; assuming ASCII, no guarantees. See https://docs.pwntools.com/#bytes\n",
      "  l1=int(r.recvuntil(\"a^k\").decode()[Integer(3):-Integer(4)])\n",
      "/tmp/ipykernel_3184/2656000915.py:4: BytesWarning: Text is not bytes; assuming ASCII, no guarantees. See https://docs.pwntools.com/#bytes\n",
      "  l2= int(r.recvuntil(\"(mod c)\").decode()[Integer(2):-Integer(7)])\n",
      "/tmp/ipykernel_3184/2656000915.py:10: BytesWarning: Text is not bytes; assuming ASCII, no guarantees. See https://docs.pwntools.com/#bytes\n",
      "  r.sendline(str(ans))\n"
     ]
    },
    {
     "data": {
      "text/plain": [
       "b'uiuctf{c4rm1ch43l_7adb8e2f019bb4e0e8cd54e92bb6e3893}\\n'"
      ]
     },
     "execution_count": 79,
     "metadata": {},
     "output_type": "execute_result"
    }
   ],
   "source": [
    "r.recv()\n",
    "r.sendline(str(t1))\n",
    "l1=int(r.recvuntil(\"a^k\").decode()[3:-4])\n",
    "l2= int(r.recvuntil(\"(mod c)\").decode()[2:-7])\n",
    "FF=Zmod(t1)\n",
    "g = FF(l1)\n",
    "h = FF(l2)\n",
    "ans =discrete_log(h,g)\n",
    "r.recv()\n",
    "r.sendline(str(ans))\n",
    "r.recv()\n"
   ]
  }
 ],
 "metadata": {
  "kernelspec": {
   "display_name": "SageMath 10.3",
   "language": "sage",
   "name": "sagemath"
  },
  "language_info": {
   "codemirror_mode": {
    "name": "ipython",
    "version": 3
   },
   "file_extension": ".py",
   "mimetype": "text/x-python",
   "name": "python",
   "nbconvert_exporter": "python",
   "pygments_lexer": "ipython3",
   "version": "3.11.9"
  }
 },
 "nbformat": 4,
 "nbformat_minor": 5
}
