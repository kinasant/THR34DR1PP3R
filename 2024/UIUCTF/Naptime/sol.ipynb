{
 "cells": [
  {
   "cell_type": "code",
   "execution_count": 1,
   "id": "87e0b9b9-af6e-46a5-bccc-bd0af38921fd",
   "metadata": {},
   "outputs": [],
   "source": [
    "from random import randint\n",
    "from Crypto.Util.number import getPrime, bytes_to_long, long_to_bytes\n",
    "import numpy as np\n",
    "\n",
    "def get_b(n):\n",
    "    b = []\n",
    "    b.append(randint(2**(n-1), 2**n))\n",
    "    for i in range(n - 1):\n",
    "        lb = sum(b)\n",
    "        found = False\n",
    "        while not found:\n",
    "            num = randint(max(2**(n + i), lb + 1), 2**(n + i + 1))\n",
    "            if num > lb:\n",
    "                found = True\n",
    "                b.append(num)\n",
    "\n",
    "    return b\n",
    "\n",
    "def get_MW(b):\n",
    "    lb = sum(b)\n",
    "    M = randint(lb + 1, 2*lb)\n",
    "    W = getPrime(int(1.5*len(b)))\n",
    "\n",
    "    return M, W\n",
    "\n",
    "def get_a(b, M, W):\n",
    "    a_ = []\n",
    "    for num in b:\n",
    "        a_.append(num * W % M)\n",
    "    pi = np.random.permutation(list(i for i in range(len(b)))).tolist()\n",
    "    a = [a_[pi[i]] for i in range(len(b))]\n",
    "    return a, pi\n",
    "\n",
    "\n",
    "def enc(flag, a, n):\n",
    "    bitstrings = []\n",
    "    for c in flag:\n",
    "        # c -> int -> 8-bit binary string\n",
    "        bitstrings.append(bin(ord(c))[2:].zfill(8))\n",
    "    ct = []\n",
    "    for bits in bitstrings:\n",
    "        curr = 0\n",
    "        for i, b in enumerate(bits):\n",
    "            if b == \"1\":\n",
    "                curr += a[i]\n",
    "        ct.append(curr)\n",
    "    return ct\n",
    "\n",
    "def dec(ct, a, b, pi, M, W, n):\n",
    "    # construct inverse permuation to pi\n",
    "    pii = np.argsort(pi).tolist()\n",
    "    m = \"\"\n",
    "    U = pow(W, -1, M)\n",
    "    ct = [c * U % M for c in ct]\n",
    "    for c in ct:\n",
    "        # find b_pi(j)\n",
    "        diff = 0\n",
    "        bits = [\"0\" for _ in range(n)]\n",
    "        for i in reversed(range(n)):\n",
    "            if c - diff > sum(b[:i]):\n",
    "                diff += b[i]\n",
    "                bits[pii[i]] = \"1\"\n",
    "        # convert bits to character\n",
    "        m += chr(int(\"\".join(bits), base=2))\n",
    "\n",
    "    return m\n",
    "\n",
    "\n",
    "def main():\n",
    "    flag = 'uiuctf{I_DID_NOT_LEAVE_THE_FLAG_THIS_TIME}'\n",
    "\n",
    "    # generate cryptosystem\n",
    "    n = 8\n",
    "    b = get_b(n)\n",
    "    M, W = get_MW(b)\n",
    "    a, pi = get_a(b, M, W)\n",
    "\n",
    "    # encrypt\n",
    "    ct = enc(flag, a, n)\n",
    "\n",
    "    # public information\n",
    "    print(f\"{a =  }\")\n",
    "    print(f\"{ct = }\")\n",
    "\n",
    "    # decrypt\n",
    "    res = dec(ct, a, b, pi, M, W, n)\n"
   ]
  },
  {
   "cell_type": "code",
   "execution_count": 212,
   "id": "14e920b1-f2e5-4223-87fb-5bec07289a4e",
   "metadata": {},
   "outputs": [],
   "source": [
    "a =  [66128, 61158, 36912, 65196, 15611, 45292, 84119, 65338]"
   ]
  },
  {
   "cell_type": "code",
   "execution_count": 223,
   "id": "185a6db3-0004-4254-ba31-4450ca3d50be",
   "metadata": {},
   "outputs": [],
   "source": [
    "ct = [273896, 179019, 273896, 247527, 208558, 227481, 328334, 179019, 336714, 292819, 102108, 208558, 336714, 312723, 158973, 208700, 208700, 163266, 244215, 336714, 312723, 102108, 336714, 142107, 336714, 167446, 251565, 227481, 296857, 336714, 208558, 113681, 251565, 336714, 227481, 158973, 147400, 292819, 289507]"
   ]
  },
  {
   "cell_type": "code",
   "execution_count": 235,
   "id": "aafb2ea5-1297-4463-bd24-4c63eb46f57f",
   "metadata": {},
   "outputs": [],
   "source": [
    "def improved_basis(arr,s):\n",
    "    M = identity_matrix(QQ, len(arr))\n",
    "    M = M.augment(vector(arr))\n",
    "    M = M.stack(vector([-1/2 for _ in range(len(arr))] + [-s]))\n",
    "\n",
    "    for row in M.LLL():\n",
    "        for row in (row, -row):\n",
    "            if row[-1] == 0:\n",
    "                subset = [arr[i] for i, x in enumerate(row[:-1]) if x+1/2==1]\n",
    "                if sum(subset) == s:\n",
    "                    return row\n",
    "    return False"
   ]
  },
  {
   "cell_type": "code",
   "execution_count": 233,
   "id": "9f1e0eb4-6aaa-4b1a-a96d-420e777b333b",
   "metadata": {},
   "outputs": [],
   "source": [
    "    M = identity_matrix(QQ, len(a))\n",
    "    M = M.augment(vector(a))\n",
    "    M = M.stack(vector([-1/2 for _ in range(len(a))] + [-ct[0]]))"
   ]
  },
  {
   "cell_type": "code",
   "execution_count": 237,
   "id": "700f2df5-d68c-403c-87ca-e8228d5e416b",
   "metadata": {},
   "outputs": [],
   "source": [
    "r1=improved_basis(a,ct[0])"
   ]
  },
  {
   "cell_type": "code",
   "execution_count": 243,
   "id": "a6b0610d-8d45-40b6-89d8-ff6885128aed",
   "metadata": {},
   "outputs": [],
   "source": [
    "from sage.crypto.util import bin_to_ascii"
   ]
  },
  {
   "cell_type": "code",
   "execution_count": 244,
   "id": "464f7626-2bbc-45f7-8892-d1a3c926da8f",
   "metadata": {},
   "outputs": [
    {
     "data": {
      "text/plain": [
       "'u'"
      ]
     },
     "execution_count": 244,
     "metadata": {},
     "output_type": "execute_result"
    }
   ],
   "source": [
    "bin_to_ascii(''.join(str(i+1/2) for i in r1[:-1]))"
   ]
  },
  {
   "cell_type": "code",
   "execution_count": 247,
   "id": "3eab1995-a372-40a3-bcb4-31b9b9596248",
   "metadata": {},
   "outputs": [],
   "source": [
    "flag=''\n",
    "for i in ct:\n",
    "    r1=improved_basis(a,i)\n",
    "    flag+=bin_to_ascii(''.join(str(i+1/2) for i in r1[:-1]))"
   ]
  },
  {
   "cell_type": "code",
   "execution_count": 248,
   "id": "03f39ac9-fab8-45e4-bdaa-ec9bb1b6b379",
   "metadata": {},
   "outputs": [
    {
     "data": {
      "text/plain": [
       "'uiuctf{i_g0t_sleepy_s0_I_13f7_th3_fl4g}'"
      ]
     },
     "execution_count": 248,
     "metadata": {},
     "output_type": "execute_result"
    }
   ],
   "source": [
    "flag"
   ]
  }
 ],
 "metadata": {
  "kernelspec": {
   "display_name": "SageMath 10.3",
   "language": "sage",
   "name": "sagemath"
  },
  "language_info": {
   "codemirror_mode": {
    "name": "ipython",
    "version": 3
   },
   "file_extension": ".py",
   "mimetype": "text/x-python",
   "name": "python",
   "nbconvert_exporter": "python",
   "pygments_lexer": "ipython3",
   "version": "3.11.9"
  }
 },
 "nbformat": 4,
 "nbformat_minor": 5
}
