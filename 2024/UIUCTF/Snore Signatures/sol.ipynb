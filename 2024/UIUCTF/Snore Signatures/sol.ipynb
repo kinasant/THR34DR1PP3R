{
 "cells": [
  {
   "cell_type": "code",
   "execution_count": null,
   "id": "0e8bc470-8bbb-458b-9950-0d29c0823ae0",
   "metadata": {},
   "outputs": [],
   "source": [
    "#!/usr/bin/env python3\n",
    "\n",
    "from Crypto.Util.number import isPrime, getPrime, long_to_bytes, bytes_to_long\n",
    "from Crypto.Random.random import getrandbits, randint\n",
    "from Crypto.Hash import SHA512\n",
    "\n",
    "LOOP_LIMIT = 2000\n",
    "\n",
    "\n",
    "def hash(val, bits=1024):\n",
    "    output = 0\n",
    "    for i in range((bits//512) + 1):\n",
    "        h = SHA512.new()\n",
    "        h.update(long_to_bytes(val) + long_to_bytes(i))\n",
    "        output = int(h.hexdigest(), 16) << (512 * i) ^ output\n",
    "    return output"
   ]
  },
  {
   "cell_type": "code",
   "execution_count": 37,
   "id": "9c30ed16-6ed9-42a6-8380-59c1aec930bf",
   "metadata": {},
   "outputs": [],
   "source": [
    "def gen_snore_group(N=512):\n",
    "    q = getPrime(N)\n",
    "    for _ in range(LOOP_LIMIT):\n",
    "        X = getrandbits(2*N)\n",
    "        p = X - X % (2 * q) + 1\n",
    "        if isPrime(p):\n",
    "            break\n",
    "    else:\n",
    "        raise Exception(\"Failed to generate group\")\n",
    "\n",
    "    r = (p - 1) // q \n",
    "\n",
    "    for _ in range(LOOP_LIMIT):\n",
    "        h = randint(2, p - 1)\n",
    "        if pow(h, r, p) != 1:\n",
    "            break\n",
    "    else:\n",
    "        raise Exception(\"Failed to generate group\")\n",
    "\n",
    "    g = pow(h, r, p)\n",
    "\n",
    "    return (p, q, g)\n",
    "\n",
    "\n",
    "def snore_gen(p, q, g, N=512):\n",
    "    x = randint(1, q - 1)\n",
    "    y = pow(g, -x, p)\n",
    "    return (x, y)\n",
    "\n",
    "\n",
    "def snore_sign(p, q, g, x, m):\n",
    "    k = randint(1, q - 1)\n",
    "    r = pow(g, k, p)\n",
    "    e = hash((r + m) % p) % q\n",
    "    s = (k + x * e) % q\n",
    "    return (s, e)\n",
    "\n",
    "\n",
    "def snore_verify(p, q, g, y, m, s, e):\n",
    "    if not (0 < s < q):\n",
    "        return False\n",
    "\n",
    "    rv = (pow(g, s, p) * pow(y, e, p)) % p\n",
    "    ev = hash((rv + m) % p) % q\n",
    "\n",
    "    return ev == e\n",
    "\n",
    "\n",
    "def main():\n",
    "    p, q, g = gen_snore_group()\n",
    "    print(f\"p = {p}\")\n",
    "    print(f\"q = {q}\")\n",
    "    print(f\"g = {g}\")\n",
    "\n",
    "    queries = []\n",
    "    for _ in range(10):\n",
    "        x, y = snore_gen(p, q, g)\n",
    "        print(f\"y = {y}\")\n",
    "\n",
    "        print('you get one query to the oracle')\n",
    "\n",
    "        m = int(input(\"m = \"))\n",
    "        queries.append(m)\n",
    "        s, e = snore_sign(p, q, g, x, m)\n",
    "        print(f\"s = {s}\")\n",
    "        print(f\"e = {e}\")\n",
    "\n",
    "        print('can you forge a signature?')\n",
    "        m = int(input(\"m = \"))\n",
    "        s = int(input(\"s = \"))\n",
    "        # you can't change e >:)\n",
    "        if m in queries:\n",
    "            print('nope')\n",
    "            return\n",
    "        if not snore_verify(p, q, g, y, m, s, e):\n",
    "            print('invalid signature!')\n",
    "            return\n",
    "        queries.append(m)\n",
    "        print('correct signature!')\n",
    "\n",
    "    print('you win !')\n",
    "    print(open('flag.txt').read())"
   ]
  },
  {
   "cell_type": "code",
   "execution_count": 149,
   "id": "926385ab-6b10-407c-8888-bf3e79cd3bbf",
   "metadata": {
    "scrolled": true
   },
   "outputs": [
    {
     "name": "stdout",
     "output_type": "stream",
     "text": [
      "[x] Starting local process '/bin/sh'\n",
      "[+] Starting local process '/bin/sh': pid 9370\n"
     ]
    }
   ],
   "source": [
    "cmd = \"ncat --ssl snore-signatures.chal.uiuc.tf 1337\"\n",
    "r = process(cmd,shell=True,stdin=PTY)"
   ]
  },
  {
   "cell_type": "code",
   "execution_count": 150,
   "id": "89956c88-033a-4ca1-b8d2-3449f52239cd",
   "metadata": {
    "scrolled": true
   },
   "outputs": [
    {
     "name": "stderr",
     "output_type": "stream",
     "text": [
      "/tmp/ipykernel_6962/2776124356.py:1: BytesWarning: Text is not bytes; assuming ASCII, no guarantees. See https://docs.pwntools.com/#bytes\n",
      "  r1=r.recvuntil(\"m =\")\n"
     ]
    },
    {
     "name": "stdout",
     "output_type": "stream",
     "text": [
      "b'p = 146916528656808197493772647519181531193620170526459935316687549229840589151444773617777412259002172547204128925700491466346168566944287420588360106256336672309981752990341903232284399727789948445654143038504888018974782792387483866105458140393120413168919675916009018114029215164068508729163576850522075369371\\nq = 9665625040246828734882231466046617685246763193689137614264376726980574158262131140687099671481317629621448362372009776322763689236134418574462644425306927\\ng = 107389919790093926901109707005694035177630165601173171897252694796663133510683873768364516719759396353977959652730980805181233021435205857310368897602322561946177565352234480231629411892649283797126404188397046746016909013489040934223523736258628543822315856728116651168744103810899807102807811325100030273734\\ny = 139476670763060290412532877609508658925557557328531785206252985217492280246590513872931494892241724956301737534597228304383937535061581073544869925808542305491235579714357087715045423427080223506084645759362980484557014991831864805265571140981119883041726750572484002245648535776928177422971139104229657851556\\nyou get one query to the oracle\\nm ='\n"
     ]
    },
    {
     "name": "stderr",
     "output_type": "stream",
     "text": [
      "/tmp/ipykernel_6962/2776124356.py:4: BytesWarning: Text is not bytes; assuming ASCII, no guarantees. See https://docs.pwntools.com/#bytes\n",
      "  r.sendline(\"0\")\n",
      "/tmp/ipykernel_6962/2776124356.py:5: BytesWarning: Text is not bytes; assuming ASCII, no guarantees. See https://docs.pwntools.com/#bytes\n",
      "  r2=r.recvuntil(\"m =\")\n"
     ]
    },
    {
     "name": "stdout",
     "output_type": "stream",
     "text": [
      "b' s = 883496782932158770111588904757009491479486711158763852977603514975391211163216788826984814045738023478823626001273253606133009635223544458152128432368261\\ne = 4683289304844345055721609356089707983804632849454303757207924568254031539959611835228714893693730208077746941775003982146816149414852031878542633869401388\\ncan you forge a signature?\\nm ='\n"
     ]
    },
    {
     "name": "stderr",
     "output_type": "stream",
     "text": [
      "/tmp/ipykernel_6962/2776124356.py:8: BytesWarning: Text is not bytes; assuming ASCII, no guarantees. See https://docs.pwntools.com/#bytes\n",
      "  r.sendline(str(p*1))\n",
      "/tmp/ipykernel_6962/2776124356.py:9: BytesWarning: Text is not bytes; assuming ASCII, no guarantees. See https://docs.pwntools.com/#bytes\n",
      "  r.recvuntil(\"s =\")\n",
      "/tmp/ipykernel_6962/2776124356.py:10: BytesWarning: Text is not bytes; assuming ASCII, no guarantees. See https://docs.pwntools.com/#bytes\n",
      "  r.sendline(str(s))\n"
     ]
    }
   ],
   "source": [
    "r1=r.recvuntil(\"m =\")\n",
    "p = int(r1.decode().split(\"\\n\")[0][3:])\n",
    "r.sendline(\"0\")\n",
    "r2=r.recvuntil(\"m =\")\n",
    "s=int(r2.decode().split(\"\\n\")[0][4:])\n",
    "r.sendline(str(p*1))\n",
    "r.recvuntil(\"s =\")\n",
    "r.sendline(str(s))"
   ]
  },
  {
   "cell_type": "code",
   "execution_count": 151,
   "id": "6191a81a-9520-4c5a-af11-ef747b3f01a1",
   "metadata": {
    "scrolled": true
   },
   "outputs": [
    {
     "name": "stderr",
     "output_type": "stream",
     "text": [
      "/tmp/ipykernel_6962/656721268.py:2: BytesWarning: Text is not bytes; assuming ASCII, no guarantees. See https://docs.pwntools.com/#bytes\n",
      "  r1=r.recvuntil(\"m =\")\n",
      "/tmp/ipykernel_6962/656721268.py:3: BytesWarning: Text is not bytes; assuming ASCII, no guarantees. See https://docs.pwntools.com/#bytes\n",
      "  r.sendline(\"0\")\n",
      "/tmp/ipykernel_6962/656721268.py:4: BytesWarning: Text is not bytes; assuming ASCII, no guarantees. See https://docs.pwntools.com/#bytes\n",
      "  r2=r.recvuntil(\"m =\")\n"
     ]
    },
    {
     "name": "stdout",
     "output_type": "stream",
     "text": [
      "b' s = 2847714000286459314097245380477022781113506579943208776557079611122493744872240135794590714289526397012016899652396546889624466535439113006193249284948060\\ne = 2124809275469295196418532735914273484584287188979326210153079571367072037668523366003255992776861555260143169476775833655816200332713698076876725965690740\\ncan you forge a signature?\\nm ='\n"
     ]
    },
    {
     "name": "stderr",
     "output_type": "stream",
     "text": [
      "/tmp/ipykernel_6962/656721268.py:7: BytesWarning: Text is not bytes; assuming ASCII, no guarantees. See https://docs.pwntools.com/#bytes\n",
      "  r.sendline(str(p*i))\n",
      "/tmp/ipykernel_6962/656721268.py:8: BytesWarning: Text is not bytes; assuming ASCII, no guarantees. See https://docs.pwntools.com/#bytes\n",
      "  r.recvuntil(\"s =\")\n",
      "/tmp/ipykernel_6962/656721268.py:9: BytesWarning: Text is not bytes; assuming ASCII, no guarantees. See https://docs.pwntools.com/#bytes\n",
      "  r.sendline(str(s))\n"
     ]
    },
    {
     "name": "stdout",
     "output_type": "stream",
     "text": [
      "b' s = 2457454682465008534252359892641550737065610222322882412802744466921026906724245912114660933855535548865173163930635327436854631799151788639413919511272875\\ne = 6269085674307393493866611950208916943538210244023825300272737876189854710132123673671899795337537346587048127437874996975906939841153105981418400511251459\\ncan you forge a signature?\\nm ='\n",
      "b' s = 812564315757629933979971765726826566468407186754929993408028662054583742421322922726470793046441153148545391188970060794200247316689088984624907721978776\\ne = 3105360417446449979485828540708952607619927442779104293354627736606248061511796271738906384202135681906390825076812441362513158179787474150341343426547082\\ncan you forge a signature?\\nm ='\n",
      "b' s = 4953577152038192086073356868778904830472630874525538923489530305321465838977177744204975574948469735045696730202920234006600891736886506650955198360140157\\ne = 7739540534340085232318556778987200032716059121528593902954312241510958497917223244820214577257559482598532284953134562504508467103179036695532618030662700\\ncan you forge a signature?\\nm ='\n",
      "b' s = 5280861437722406116053022376023063478911526987108485790678814465560680768689607101275133999259243898423497539545220955812283962911109196943024995897567075\\ne = 9362856992212802897452254435339305734134653109608539672288747511904227403557430887030533306980052060689075327065153494907233207732990531641396181221130953\\ncan you forge a signature?\\nm ='\n",
      "b' s = 4675297144065143724343969091557435631298335986894267911075237544102175111929364560627500296436333211047790283282688988970766422488627070416013644104974077\\ne = 6598264621497134750609542330646057414725387066497457317761751432648013684818784800984920749479419177981637313489050291213120320802741687284446237750965147\\ncan you forge a signature?\\nm ='\n",
      "b' s = 1084127362090709377129130913002965976788581266127489608216773809089389813011787605951631361527546715369203366682097999176262650891428015015446696308297035\\ne = 1794588125359833396043400146090763608842103946980263038509432863776747967231965228762072334378279891454736254779881652149407327361855899610603830130256770\\ncan you forge a signature?\\nm ='\n",
      "b' s = 928056180944922044005107809389946493194304658613391890090761075463917882554512409532872471091846023908148508764552775122723659529241855242090960068762234\\ne = 6527197310135473298982716006507185691857144905134274727333273645001117326025118168594100353332867176663640280583657073693964879912241681034346817985907527\\ncan you forge a signature?\\nm ='\n",
      "b' s = 3115962891949226563882110475947444118905659005123912069439572921732690320519524311001427517642116533968292776376280714773038069467985282467910058487035046\\ne = 8903327525708001381115689903808947720838899405919623624096849293964587329368246737314496244346199307112908232975757327625433069068388430195001660058156764\\ncan you forge a signature?\\nm ='\n"
     ]
    }
   ],
   "source": [
    "for i in range(2,11):\n",
    "    r1=r.recvuntil(\"m =\")\n",
    "    r.sendline(\"0\")\n",
    "    r2=r.recvuntil(\"m =\")\n",
    "    print(r2)\n",
    "    s=int(r2.decode().split(\"\\n\")[0][4:])\n",
    "    r.sendline(str(p*i))\n",
    "    r.recvuntil(\"s =\")\n",
    "    r.sendline(str(s))"
   ]
  },
  {
   "cell_type": "code",
   "execution_count": 153,
   "id": "d333e6ac-9f53-4959-92d0-e9942d8ef161",
   "metadata": {},
   "outputs": [
    {
     "data": {
      "text/plain": [
       "b'correct signature!\\nyou win!\\nuiuctf{add1ti0n_i5_n0t_c0nc4t3n4ti0n}\\n\\n'"
      ]
     },
     "execution_count": 153,
     "metadata": {},
     "output_type": "execute_result"
    }
   ],
   "source": [
    "r.recv()"
   ]
  }
 ],
 "metadata": {
  "kernelspec": {
   "display_name": "Python 3 (ipykernel)",
   "language": "python",
   "name": "python3"
  },
  "language_info": {
   "codemirror_mode": {
    "name": "ipython",
    "version": 3
   },
   "file_extension": ".py",
   "mimetype": "text/x-python",
   "name": "python",
   "nbconvert_exporter": "python",
   "pygments_lexer": "ipython3",
   "version": "3.11.9"
  }
 },
 "nbformat": 4,
 "nbformat_minor": 5
}
