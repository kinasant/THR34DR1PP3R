{
 "cells": [
  {
   "cell_type": "code",
   "execution_count": 8,
   "id": "6b8504bc-342a-49fe-a9b0-bd917ff61b05",
   "metadata": {},
   "outputs": [],
   "source": [
    "P.<i0,i1,i2,i3,i4,i5,i6,i7,i8,i9,p,q,r> = PolynomialRing(SR)"
   ]
  },
  {
   "cell_type": "code",
   "execution_count": 4,
   "id": "d25b8db1-63a6-4d3f-84e2-253bfedad989",
   "metadata": {},
   "outputs": [],
   "source": [
    "M = Matrix([[p,0,i1,0,i2],[0,i3,0,i4,0],[i5,0,i6,0,i7],[0,q,0,r,0],[i8,0,i9,0,0]])"
   ]
  },
  {
   "cell_type": "code",
   "execution_count": 5,
   "id": "67b53b15-c004-446b-96f7-6a1320087e7b",
   "metadata": {},
   "outputs": [
    {
     "data": {
      "text/plain": [
       "[ p  0 i1  0 i2]\n",
       "[ 0 i3  0 i4  0]\n",
       "[i5  0 i6  0 i7]\n",
       "[ 0  q  0  r  0]\n",
       "[i8  0 i9  0  0]"
      ]
     },
     "execution_count": 5,
     "metadata": {},
     "output_type": "execute_result"
    }
   ],
   "source": [
    "M"
   ]
  },
  {
   "cell_type": "code",
   "execution_count": 3,
   "id": "894ee711-1645-4e2e-8a62-57d35450f237",
   "metadata": {},
   "outputs": [
    {
     "data": {
      "text/plain": [
       "i2*i4*i6*i8*q - i1*i4*i7*i8*q - i2*i4*i5*i9*q + i4*i7*i9*p*q - i2*i3*i6*i8*r + i1*i3*i7*i8*r + i2*i3*i5*i9*r - i3*i7*i9*p*r"
      ]
     },
     "execution_count": 3,
     "metadata": {},
     "output_type": "execute_result"
    }
   ],
   "source": [
    "det(M)"
   ]
  },
  {
   "cell_type": "code",
   "execution_count": 26,
   "id": "63dff292-46d9-45b2-9cf7-b81f671c8aca",
   "metadata": {},
   "outputs": [],
   "source": [
    "i1,i3,i5,i7,i9 = [0]*5\n",
    "i2,i4,i6,i8 = [1]*4"
   ]
  },
  {
   "cell_type": "code",
   "execution_count": 27,
   "id": "d4898e05-4bbc-40f1-9ebb-b22cc38d81d7",
   "metadata": {},
   "outputs": [],
   "source": [
    "M = Matrix([[p,0,i1,0,i2],[0,i3,0,i4,0],[i5,0,i6,0,i7],[0,q,0,r,0],[i8,0,i9,0,0]])"
   ]
  },
  {
   "cell_type": "code",
   "execution_count": 28,
   "id": "a931e370-237f-45a8-9381-c411a837dd42",
   "metadata": {},
   "outputs": [
    {
     "data": {
      "text/plain": [
       "q"
      ]
     },
     "execution_count": 28,
     "metadata": {},
     "output_type": "execute_result"
    }
   ],
   "source": [
    "det(M)"
   ]
  },
  {
   "cell_type": "code",
   "execution_count": 29,
   "id": "e73c52d7-c5aa-46bf-b6a5-941b01af523c",
   "metadata": {},
   "outputs": [],
   "source": [
    "q = 12538849920148192679761652092105069246209474199128389797086660026385076472391166777813291228233723977872612370392782047693930516418386543325438897742835129"
   ]
  },
  {
   "cell_type": "code",
   "execution_count": 30,
   "id": "76f01857-ed3b-4b9a-8d33-0f540f427c24",
   "metadata": {},
   "outputs": [],
   "source": [
    "n = 158794636700752922781275926476194117856757725604680390949164778150869764326023702391967976086363365534718230514141547968577753309521188288428236024251993839560087229636799779157903650823700424848036276986652311165197569877428810358366358203174595667453056843209344115949077094799081260298678936223331932826351\n"
   ]
  },
  {
   "cell_type": "code",
   "execution_count": 32,
   "id": "22f16fe0-9a29-4d4d-87e0-3f30bd88f954",
   "metadata": {},
   "outputs": [],
   "source": [
    "p = n//q"
   ]
  },
  {
   "cell_type": "code",
   "execution_count": 33,
   "id": "25cc5803-7818-4d92-9920-f6dbbb61f11d",
   "metadata": {},
   "outputs": [],
   "source": [
    "from Crypto.Util.number import *"
   ]
  },
  {
   "cell_type": "code",
   "execution_count": 35,
   "id": "dd135abc-be29-4acd-9523-7b327640c26e",
   "metadata": {},
   "outputs": [],
   "source": [
    "e = 65535"
   ]
  },
  {
   "cell_type": "code",
   "execution_count": 36,
   "id": "5e294902-f769-4a8f-9e7e-dd50ac351359",
   "metadata": {},
   "outputs": [],
   "source": [
    "c = 72186625991702159773441286864850566837138114624570350089877959520356759693054091827950124758916323653021925443200239303328819702117245200182521971965172749321771266746783797202515535351816124885833031875091162736190721470393029924557370228547165074694258453101355875242872797209141366404264775972151904835111\n"
   ]
  },
  {
   "cell_type": "code",
   "execution_count": 37,
   "id": "34ce6397-7317-4973-a10e-9d8abc04a630",
   "metadata": {},
   "outputs": [],
   "source": [
    "d = inverse(e,(p-1)*(q-1))"
   ]
  },
  {
   "cell_type": "code",
   "execution_count": 38,
   "id": "0e97fbf5-b87d-451c-a566-6f772f38fa15",
   "metadata": {},
   "outputs": [
    {
     "data": {
      "text/plain": [
       "b'uiuctf{h4rd_w0rk_&&_d3t3rm1n4t10n}'"
      ]
     },
     "execution_count": 38,
     "metadata": {},
     "output_type": "execute_result"
    }
   ],
   "source": [
    "long_to_bytes(pow(c,d,n))"
   ]
  }
 ],
 "metadata": {
  "kernelspec": {
   "display_name": "SageMath 10.3",
   "language": "sage",
   "name": "sagemath"
  },
  "language_info": {
   "codemirror_mode": {
    "name": "ipython",
    "version": 3
   },
   "file_extension": ".py",
   "mimetype": "text/x-python",
   "name": "python",
   "nbconvert_exporter": "python",
   "pygments_lexer": "ipython3",
   "version": "3.11.9"
  }
 },
 "nbformat": 4,
 "nbformat_minor": 5
}
