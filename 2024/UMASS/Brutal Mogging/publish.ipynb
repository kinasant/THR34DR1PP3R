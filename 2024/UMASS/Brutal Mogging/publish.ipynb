{
 "cells": [
  {
   "cell_type": "code",
   "execution_count": 1,
   "id": "b9ff6291-184e-44e8-b204-9152530bb3db",
   "metadata": {},
   "outputs": [],
   "source": [
    "import os\n",
    "from hashlib import sha256\n",
    "from Crypto.Util.number import *\n",
    "def xor(data1, data2):\n",
    "    return bytes([data1[i] ^ data2[i] for i in range(len(data1))])\n",
    "\n",
    "def do_round(data, key):\n",
    "    m = sha256()\n",
    "    m.update(xor(data[2:4], key))\n",
    "    return bytes(data[2:4]) + xor(m.digest()[0:2], data[0:2])\n",
    "\n",
    "def do_round_inv(data, key):\n",
    "    m = sha256()\n",
    "    m.update(xor(data[0:2], key))\n",
    "    return xor(m.digest()[0:2], data[2:4]) + bytes(data[0:2])\n",
    "\n",
    "def pad(data):\n",
    "    padding_length = 4 - (len(data) % 4)\n",
    "    return data + bytes([padding_length] * padding_length)\n",
    "\n",
    "def unpad(data):\n",
    "    padding_length = data[-1]\n",
    "    return data[:-padding_length]\n",
    "\n",
    "# XOR every character with bytes generated from the PRNG\n",
    "def encrypt_block(data, key):\n",
    "    \n",
    "    for i in range(10):\n",
    "        data = do_round(data, key)\n",
    "    return data\n",
    "\n",
    "def decrypt_block(data, key):\n",
    "    for i in range(10):\n",
    "        data = do_round_inv(data, key)\n",
    "    return data\n",
    "\n",
    "def encrypt_data(data, key):\n",
    "    cipher = b''\n",
    "    while data:\n",
    "        cipher += encrypt_block(data[:4], key)\n",
    "        data = data[4:]\n",
    "    return cipher\n",
    "\n",
    "def decrypt_data(cipher, key):\n",
    "    data = b''\n",
    "    while cipher:\n",
    "        data += decrypt_block(cipher[:4], key)\n",
    "        cipher = cipher[4:]\n",
    "    return data\n",
    "\n",
    "def encrypt(data, key):\n",
    "    data = pad(data)\n",
    "    return encrypt_data(encrypt_data(data, key[0:2]), key[2:4])\n",
    "\n",
    "def decrypt(data, key):\n",
    "    plain = decrypt_data(decrypt_data(data, key[2:4]), key[0:2])\n",
    "    return unpad(plain)"
   ]
  },
  {
   "cell_type": "code",
   "execution_count": 2,
   "id": "ba4f85f7-ec4d-4f00-b998-325eef9b7a03",
   "metadata": {},
   "outputs": [
    {
     "name": "stdout",
     "output_type": "stream",
     "text": [
      "[x] Opening connection to brutalmogging.ctf.umasscybersec.org on port 1337\n",
      "[x] Opening connection to brutalmogging.ctf.umasscybersec.org on port 1337: Trying 35.231.243.29\n",
      "[+] Opening connection to brutalmogging.ctf.umasscybersec.org on port 1337: Done\n"
     ]
    },
    {
     "name": "stderr",
     "output_type": "stream",
     "text": [
      "/tmp/ipykernel_1937/102102624.py:3: BytesWarning: Text is not bytes; assuming ASCII, no guarantees. See https://docs.pwntools.com/#bytes\n",
      "  print(r.recvuntil(\"s:\"))\n"
     ]
    },
    {
     "name": "stdout",
     "output_type": "stream",
     "text": [
      "b\"== proof-of-work: disabled ==\\nOh yeah, my cipher is so strong and my one way function is so well defined.\\nNo betas can ever break it, so I'll just give you the flag right now.\\nThe encrypted flag is:\"\n",
      "[*] Closed connection to brutalmogging.ctf.umasscybersec.org port 1337\n"
     ]
    }
   ],
   "source": [
    "from pwn import *\n",
    "r = remote(\"brutalmogging.ctf.umasscybersec.org\",\"1337\")\n",
    "print(r.recvuntil(\"s:\"))\n",
    "t1=r.recvline().strip()\n",
    "r.close()"
   ]
  },
  {
   "cell_type": "code",
   "execution_count": 3,
   "id": "30d37767-4756-4cb9-b4d7-9a8e5fb7c333",
   "metadata": {},
   "outputs": [
    {
     "data": {
      "text/plain": [
       "'7213d06923a531a4db074b823ba8de37512553077ac5d9742fc13543ec4fc68aba0a8ab27dbacc29d82f731d946773d8'"
      ]
     },
     "execution_count": 3,
     "metadata": {},
     "output_type": "execute_result"
    }
   ],
   "source": [
    "t1"
   ]
  },
  {
   "cell_type": "code",
   "execution_count": 4,
   "id": "31aaffe8-42eb-4e10-b501-d754025cb7b3",
   "metadata": {},
   "outputs": [],
   "source": [
    "from Crypto.Util.number import *\n",
    "a1 =[] \n",
    "for i in range(256):\n",
    "    a1.append(long_to_bytes(i))\n",
    "partial_keys=[]\n",
    "for i in a1:\n",
    "    for j in a1:\n",
    "        partial_keys.append(i+j)"
   ]
  },
  {
   "cell_type": "code",
   "execution_count": 5,
   "id": "9d7ef223-c9d9-45f4-bf18-6df7516eb248",
   "metadata": {},
   "outputs": [
    {
     "data": {
      "text/plain": [
       "65536"
      ]
     },
     "execution_count": 5,
     "metadata": {},
     "output_type": "execute_result"
    }
   ],
   "source": [
    "len(partial_keys)"
   ]
  },
  {
   "cell_type": "code",
   "execution_count": 6,
   "id": "58e0122e-ada3-4bd7-801e-5ef10c2732c5",
   "metadata": {},
   "outputs": [],
   "source": [
    "h1=[]\n",
    "for i in partial_keys:\n",
    "    h1.append(decrypt_data(long_to_bytes(int(t1[:8],16)),i))"
   ]
  },
  {
   "cell_type": "code",
   "execution_count": 8,
   "id": "8218b6f9-2cfc-4a79-8dda-3542198a1d51",
   "metadata": {},
   "outputs": [],
   "source": [
    "h2=[]\n",
    "for i in partial_keys:\n",
    "    h2.append(encrypt_data(b'UMAS',i))"
   ]
  },
  {
   "cell_type": "code",
   "execution_count": 10,
   "id": "e116e074-c2ee-404a-b265-50e9b24c723f",
   "metadata": {},
   "outputs": [
    {
     "data": {
      "text/plain": [
       "(65536, 65536)"
      ]
     },
     "execution_count": 10,
     "metadata": {},
     "output_type": "execute_result"
    }
   ],
   "source": [
    "len(h1),len(h2)"
   ]
  },
  {
   "cell_type": "code",
   "execution_count": 11,
   "id": "0a8ac49d-9f9b-46d4-8f15-5eb4284b1a8a",
   "metadata": {},
   "outputs": [],
   "source": [
    "g1=list(set(h1).intersection(h2))[0]"
   ]
  },
  {
   "cell_type": "code",
   "execution_count": 12,
   "id": "4f41ca1a-f26e-4b05-8a26-009789212a1b",
   "metadata": {},
   "outputs": [
    {
     "data": {
      "text/plain": [
       "b'1\\xb5\\x14?'"
      ]
     },
     "execution_count": 12,
     "metadata": {},
     "output_type": "execute_result"
    }
   ],
   "source": [
    "g1"
   ]
  },
  {
   "cell_type": "code",
   "execution_count": 14,
   "id": "810cfd5e-d78b-4d28-809c-c7bc34000713",
   "metadata": {},
   "outputs": [],
   "source": [
    "key = partial_keys[h2.index(g1)] + partial_keys[h1.index(g1)]"
   ]
  },
  {
   "cell_type": "code",
   "execution_count": 15,
   "id": "50ca611b-d981-4155-b76e-2bb81481f45c",
   "metadata": {},
   "outputs": [
    {
     "data": {
      "text/plain": [
       "b'\\xcf\\xbfJ9'"
      ]
     },
     "execution_count": 15,
     "metadata": {},
     "output_type": "execute_result"
    }
   ],
   "source": [
    "key"
   ]
  },
  {
   "cell_type": "code",
   "execution_count": 16,
   "id": "a3e58d2e-9ce6-423e-81d0-051516642200",
   "metadata": {},
   "outputs": [
    {
     "data": {
      "text/plain": [
       "b'UMASS{1_h4ve_b33n_m3w1ng_f0r_my_l1f3_733061741}'"
      ]
     },
     "execution_count": 16,
     "metadata": {},
     "output_type": "execute_result"
    }
   ],
   "source": [
    "decrypt(long_to_bytes(int(t1,16)),key)"
   ]
  }
 ],
 "metadata": {
  "kernelspec": {
   "display_name": "Python 3 (ipykernel)",
   "language": "python",
   "name": "python3"
  },
  "language_info": {
   "codemirror_mode": {
    "name": "ipython",
    "version": 3
   },
   "file_extension": ".py",
   "mimetype": "text/x-python",
   "name": "python",
   "nbconvert_exporter": "python",
   "pygments_lexer": "ipython3",
   "version": "3.10.12"
  }
 },
 "nbformat": 4,
 "nbformat_minor": 5
}
