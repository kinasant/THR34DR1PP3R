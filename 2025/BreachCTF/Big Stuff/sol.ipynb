{
 "cells": [
  {
   "cell_type": "code",
   "execution_count": 81,
   "id": "0299fa20-a00c-43c1-b620-79537fbc8c24",
   "metadata": {},
   "outputs": [],
   "source": [
    "from sage.crypto.util import bin_to_ascii"
   ]
  },
  {
   "cell_type": "code",
   "execution_count": 119,
   "id": "f91fc522-def7-4022-86d9-13422aa73a77",
   "metadata": {},
   "outputs": [],
   "source": [
    "load('pub.sage')"
   ]
  },
  {
   "cell_type": "code",
   "execution_count": 121,
   "id": "2f5d07e6-1ef5-4764-a95a-467b485e82b3",
   "metadata": {},
   "outputs": [],
   "source": [
    "A1 = A1[::-1]\n",
    "A2 = A2[::-1]\n",
    "bits = []\n",
    "for i in range(128):\n",
    "    size = sum(ZZ(i) for i in C.list())\n",
    "    C1 = C * A1[i]^-1\n",
    "    if sum(ZZ(i) for i in C1.list()) > size:\n",
    "        bits.append(1)\n",
    "        C *= A2[i]^-1\n",
    "    else:\n",
    "        bits.append(0)\n",
    "        C = C1"
   ]
  },
  {
   "cell_type": "code",
   "execution_count": 122,
   "id": "bfe0670e-f401-42d2-bc6d-ce7b749816db",
   "metadata": {},
   "outputs": [
    {
     "data": {
      "text/plain": [
       "'U_4r3_m47r1x_g0d'"
      ]
     },
     "execution_count": 122,
     "metadata": {},
     "output_type": "execute_result"
    }
   ],
   "source": [
    "bin_to_ascii(bits[::-1])"
   ]
  }
 ],
 "metadata": {
  "kernelspec": {
   "display_name": "SageMath 10.3",
   "language": "sage",
   "name": "sagemath"
  },
  "language_info": {
   "codemirror_mode": {
    "name": "ipython",
    "version": 3
   },
   "file_extension": ".py",
   "mimetype": "text/x-python",
   "name": "python",
   "nbconvert_exporter": "python",
   "pygments_lexer": "ipython3",
   "version": "3.11.9"
  }
 },
 "nbformat": 4,
 "nbformat_minor": 5
}
